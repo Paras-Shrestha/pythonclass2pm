{
 "cells": [
  {
   "cell_type": "code",
   "execution_count": 1,
   "id": "f64b50cc",
   "metadata": {},
   "outputs": [],
   "source": [
    "#classes object inheritance  polymorphism 2.reusable"
   ]
  },
  {
   "cell_type": "code",
   "execution_count": 6,
   "id": "a56623da",
   "metadata": {},
   "outputs": [
    {
     "name": "stdout",
     "output_type": "stream",
     "text": [
      "Hello world\n"
     ]
    }
   ],
   "source": [
    "class Hello:                  #class\n",
    "    print(\"Hello world\")\n",
    "    \n",
    "obj=Hello()                   #object\n"
   ]
  },
  {
   "cell_type": "code",
   "execution_count": 14,
   "id": "b8248157",
   "metadata": {},
   "outputs": [
    {
     "name": "stdout",
     "output_type": "stream",
     "text": [
      "Hello World\n"
     ]
    }
   ],
   "source": [
    "class Hello:                                 #class\n",
    "     def hello(self):                        #method\n",
    "        print(\"Hello World\")\n",
    "        \n",
    "obj=Hello()                                   #object\n",
    "obj.hello()"
   ]
  },
  {
   "cell_type": "code",
   "execution_count": 33,
   "id": "639cc047",
   "metadata": {},
   "outputs": [
    {
     "name": "stdout",
     "output_type": "stream",
     "text": [
      "Hello World\n"
     ]
    }
   ],
   "source": [
    "class Hello:\n",
    "    @staticmethod\n",
    "    def hello():                        #method\n",
    "        print(\"Hello World\")\n",
    "        \n",
    "obj=Hello()                                   #object\n",
    "obj.hello()"
   ]
  },
  {
   "cell_type": "code",
   "execution_count": 21,
   "id": "e5521b64",
   "metadata": {},
   "outputs": [
    {
     "name": "stdout",
     "output_type": "stream",
     "text": [
      "enter l=23\n",
      "enter b=23\n",
      "529\n"
     ]
    }
   ],
   "source": [
    "class Cal: \n",
    "      def area(self):                        #method\n",
    "            l=int(input(\"enter l=\"))\n",
    "            b=int(input(\"enter b=\"))\n",
    "            a=l*b\n",
    "            print(a)\n",
    "obj=Cal()                                   #object\n",
    "obj.area()"
   ]
  },
  {
   "cell_type": "code",
   "execution_count": 27,
   "id": "4bbae3bf",
   "metadata": {},
   "outputs": [
    {
     "name": "stdout",
     "output_type": "stream",
     "text": [
      "enter l=23\n",
      "enter b=23\n",
      "enter h=23\n",
      "529\n",
      "12167\n"
     ]
    }
   ],
   "source": [
    "class Cal: \n",
    "    def area(self,l,b):                        #method\n",
    "            a=l*b\n",
    "            print(a)\n",
    "    def volume(self,l,b,h):\n",
    "            v=l*b*h\n",
    "            print(v)\n",
    "            \n",
    "l=int(input(\"enter l=\"))\n",
    "b=int(input(\"enter b=\"))\n",
    "h=int(input(\"enter h=\"))\n",
    "obj=Cal()                                   #object\n",
    "obj.area(l,b)\n",
    "obj.volume(l,b,h)"
   ]
  },
  {
   "cell_type": "code",
   "execution_count": 28,
   "id": "b40799c9",
   "metadata": {},
   "outputs": [
    {
     "name": "stdout",
     "output_type": "stream",
     "text": [
      "enter l=23\n",
      "enter b=23\n",
      "enter h=23\n",
      "529\n",
      "12167\n"
     ]
    }
   ],
   "source": [
    "class Cal: \n",
    "    def area(self,l,b):                        #method\n",
    "            a=l*b\n",
    "            print(a)\n",
    "    def volume(self,l,b,h):\n",
    "            v=l*b*h\n",
    "            print(v)\n",
    "            \n",
    "l=int(input(\"enter l=\"))\n",
    "b=int(input(\"enter b=\"))\n",
    "h=int(input(\"enter h=\"))\n",
    "obj=Cal()                                   #object\n",
    "obj.area(l,b)\n",
    "obj.volume(l,b,h)"
   ]
  },
  {
   "cell_type": "code",
   "execution_count": 31,
   "id": "4a088489",
   "metadata": {},
   "outputs": [
    {
     "name": "stdout",
     "output_type": "stream",
     "text": [
      "enter l=12\n",
      "enter b=12\n",
      "144\n"
     ]
    }
   ],
   "source": [
    "class Area:\n",
    "    def __init__(self):\n",
    "        self.l=int(input('enter l='))\n",
    "        self.b=int(input('enter b='))\n",
    "    def area(self):\n",
    "        a=self.l*self.b\n",
    "        print(a)\n",
    "obj=Area()\n",
    "obj.area()"
   ]
  },
  {
   "cell_type": "code",
   "execution_count": 1,
   "id": "1f018304",
   "metadata": {},
   "outputs": [
    {
     "name": "stdout",
     "output_type": "stream",
     "text": [
      "enter l=23\n",
      "enter b=23\n",
      "529\n"
     ]
    }
   ],
   "source": [
    "class Area:\n",
    "    def __init__(self):\n",
    "        self.l=int(input('enter l='))\n",
    "        self.b=int(input('enter b='))\n",
    "    def area(self):\n",
    "        a=self.l*self.b\n",
    "        print(a)\n",
    "obj=Area()\n",
    "obj.area()\n"
   ]
  },
  {
   "cell_type": "code",
   "execution_count": 6,
   "id": "c6276fa4",
   "metadata": {},
   "outputs": [
    {
     "name": "stdout",
     "output_type": "stream",
     "text": [
      "Hello world\n",
      "<__main__.Hello object at 0x000001B9EAEDB9D0>\n"
     ]
    }
   ],
   "source": [
    "class Hello:\n",
    "    print(\"Hello world\")\n",
    "\n",
    "obj=Hello()\n",
    "print(obj)"
   ]
  },
  {
   "cell_type": "code",
   "execution_count": 5,
   "id": "8db79612",
   "metadata": {},
   "outputs": [
    {
     "name": "stdout",
     "output_type": "stream",
     "text": [
      "Hello world\n"
     ]
    }
   ],
   "source": [
    "class Hello:\n",
    "    @staticmethod\n",
    "    def hello():\n",
    "        print(\"Hello world\")\n",
    "\n",
    "obj=Hello()\n",
    "obj.hello()\n"
   ]
  },
  {
   "cell_type": "code",
   "execution_count": 5,
   "id": "8dd3f386",
   "metadata": {},
   "outputs": [
    {
     "name": "stdout",
     "output_type": "stream",
     "text": [
      "enter l=2\n",
      "enter b=3\n",
      "enter h=4\n",
      "6\n",
      "24\n"
     ]
    }
   ],
   "source": [
    "class A:\n",
    "    def area(self,l,b):\n",
    "        a=l*b\n",
    "        print(a)\n",
    "        \n",
    "    def volume(self,h):\n",
    "        v=l*b*h\n",
    "        print(v)\n",
    "        \n",
    "        \n",
    "l=int(input(\"enter l=\"))\n",
    "b=int(input(\"enter b=\"))\n",
    "h=int(input(\"enter h=\"))\n",
    "obj=A()\n",
    "obj.area(l,b)\n",
    "obj.volume(h)\n"
   ]
  },
  {
   "cell_type": "code",
   "execution_count": 9,
   "id": "777b5198",
   "metadata": {},
   "outputs": [
    {
     "name": "stdout",
     "output_type": "stream",
     "text": [
      "enter l=2\n",
      "enter b=3\n",
      "enter h=4\n",
      "6\n",
      "24\n"
     ]
    }
   ],
   "source": [
    "class A:\n",
    "    def __init__(self):\n",
    "        self.l=int(input(\"enter l=\"))\n",
    "        self.b=int(input(\"enter b=\"))\n",
    "        self.h=int(input(\"enter h=\"))\n",
    "        \n",
    "    def area(self):\n",
    "        a=self.l*self.b\n",
    "        print(a)\n",
    "        \n",
    "    def volume(self):\n",
    "        v=self.l*self.b*self.h\n",
    "        print(v)\n",
    "        \n",
    "\n",
    "obj=A()\n",
    "obj.area()\n",
    "obj.volume()"
   ]
  },
  {
   "cell_type": "code",
   "execution_count": 5,
   "id": "3742bd37",
   "metadata": {},
   "outputs": [
    {
     "name": "stdout",
     "output_type": "stream",
     "text": [
      "enter l=2\n",
      "enter b=3\n",
      "6\n",
      "enter l=4\n",
      "enter b=3\n",
      "enter h=4\n",
      "48\n"
     ]
    }
   ],
   "source": [
    "class A:\n",
    "    def area(self):\n",
    "        l=int(input(\"enter l=\"))\n",
    "        b=int(input(\"enter b=\"))\n",
    "        a=l*b\n",
    "        print(a)\n",
    "        \n",
    "    def volume(self):\n",
    "        l=int(input(\"enter l=\"))\n",
    "        b=int(input(\"enter b=\"))\n",
    "        h=int(input(\"enter h=\"))\n",
    "        v=l*b*h\n",
    "        print(v)\n",
    "        \n",
    "        \n",
    "\n",
    "obj=A()\n",
    "obj.area()\n",
    "obj.volume()"
   ]
  },
  {
   "cell_type": "markdown",
   "id": "4ed57c19",
   "metadata": {},
   "source": []
  },
  {
   "cell_type": "code",
   "execution_count": 14,
   "id": "be71b49f",
   "metadata": {},
   "outputs": [
    {
     "name": "stdout",
     "output_type": "stream",
     "text": [
      "enter l=2\n",
      "enter b=3\n",
      "enter h=4\n",
      "24\n"
     ]
    }
   ],
   "source": [
    "class Volume:\n",
    "    def __init__(self,l,b,h):\n",
    "        self.le=l\n",
    "        self.br=b\n",
    "        self.he=h\n",
    "        \n",
    "    def volume(this):\n",
    "        v=this.le*this.br*this.he\n",
    "        print(v)\n",
    "    \n",
    "l=int(input(\"enter l=\"))\n",
    "b=int(input(\"enter b=\"))\n",
    "h=int(input(\"enter h=\"))\n",
    "obj=Volume(l,b,h)\n",
    "obj.volume()\n"
   ]
  },
  {
   "cell_type": "code",
   "execution_count": 3,
   "id": "70cf710f",
   "metadata": {},
   "outputs": [
    {
     "name": "stdout",
     "output_type": "stream",
     "text": [
      "enter name=p\n",
      "enter course=p\n",
      "enter name=\n",
      "enter course=p\n"
     ]
    },
    {
     "ename": "TypeError",
     "evalue": "'str' object is not callable",
     "output_type": "error",
     "traceback": [
      "\u001b[1;31m---------------------------------------------------------------------------\u001b[0m",
      "\u001b[1;31mTypeError\u001b[0m                                 Traceback (most recent call last)",
      "\u001b[1;32m~\\AppData\\Local\\Temp/ipykernel_6492/2233216894.py\u001b[0m in \u001b[0;36m<module>\u001b[1;34m\u001b[0m\n\u001b[0;32m     17\u001b[0m \u001b[0mobj\u001b[0m\u001b[1;33m=\u001b[0m\u001b[0mC\u001b[0m\u001b[1;33m(\u001b[0m\u001b[1;33m)\u001b[0m\u001b[1;33m\u001b[0m\u001b[1;33m\u001b[0m\u001b[0m\n\u001b[0;32m     18\u001b[0m \u001b[0mobj\u001b[0m\u001b[1;33m=\u001b[0m\u001b[0mB\u001b[0m\u001b[1;33m(\u001b[0m\u001b[1;33m)\u001b[0m\u001b[1;33m\u001b[0m\u001b[1;33m\u001b[0m\u001b[0m\n\u001b[1;32m---> 19\u001b[1;33m \u001b[0mobj\u001b[0m\u001b[1;33m.\u001b[0m\u001b[0mcourse\u001b[0m\u001b[1;33m(\u001b[0m\u001b[1;33m)\u001b[0m\u001b[1;33m\u001b[0m\u001b[1;33m\u001b[0m\u001b[0m\n\u001b[0m\u001b[0;32m     20\u001b[0m \u001b[0mobj\u001b[0m\u001b[1;33m.\u001b[0m\u001b[0mcertificate\u001b[0m\u001b[1;33m(\u001b[0m\u001b[1;33m)\u001b[0m\u001b[1;33m\u001b[0m\u001b[1;33m\u001b[0m\u001b[0m\n\u001b[0;32m     21\u001b[0m \u001b[0mprint\u001b[0m\u001b[1;33m(\u001b[0m\u001b[0mobj\u001b[0m\u001b[1;33m.\u001b[0m\u001b[0mname\u001b[0m\u001b[1;33m,\u001b[0m\u001b[0mobj\u001b[0m\u001b[1;33m.\u001b[0m\u001b[0mcourse\u001b[0m\u001b[1;33m)\u001b[0m\u001b[1;33m\u001b[0m\u001b[1;33m\u001b[0m\u001b[0m\n",
      "\u001b[1;31mTypeError\u001b[0m: 'str' object is not callable"
     ]
    }
   ],
   "source": [
    "class A:\n",
    "    def __init__(self):\n",
    "        self.name=input(\"enter name=\")\n",
    "        self.course=input(\"enter course=\")\n",
    "       \n",
    "    def hello(self):\n",
    "        pass\n",
    "\n",
    "class B(A):\n",
    "    def course(self):\n",
    "        return (f\"Hello {self.name} .You have enrolled into {self.course} .\")\n",
    "              \n",
    "class C(B):\n",
    "    def certificate(self):\n",
    "        print(f\"Here is the certificate of {self.course}\")\n",
    "\n",
    "obj=C() \n",
    "obj.course()\n",
    "obj.certificate()\n",
    "print(obj.name,obj.course)        \n",
    "        \n",
    "\n",
    "              \n",
    "              "
   ]
  },
  {
   "cell_type": "code",
   "execution_count": null,
   "id": "4f37ae2e",
   "metadata": {},
   "outputs": [],
   "source": [
    "class A:\n",
    "    def __init__(self,add):\n",
    "        self.add=add\n",
    "    \n",
    "class B:\n",
    "    def __init__(self,age):\n",
    "        self.age=age\n",
    "class C(A,B):\n",
    "    def __init__(self,name,age,add):\n",
    "        self.name=name\n",
    "        B.__init__(self,age)\n",
    "        A.__init__(self,add)\n",
    "    \n",
    "    def hello(self):\n",
    "        print(f\"Hello world my name is {self.name}. i am {self.age}years old.I am from {self.add}\")\n",
    "name=input(\"enter name=\")\n",
    "age=input(\"enter age=\")\n",
    "add=input(\"enter add=\")\n",
    "              \n",
    "obj=C(name,age,add)\n",
    "obj.hello()"
   ]
  },
  {
   "cell_type": "code",
   "execution_count": 1,
   "id": "8ddec449",
   "metadata": {},
   "outputs": [
    {
     "name": "stdout",
     "output_type": "stream",
     "text": [
      "enter name =Hari\n",
      "enter age=23\n",
      "enter add=New Baneshwor\n",
      "Hello my name is Hari.I am 23 years old.I am from New Baneshwor .\n"
     ]
    }
   ],
   "source": [
    "class A:\n",
    "    def __init__(self,add):\n",
    "        self.add=add\n",
    "        \n",
    "#     def my_add(self):\n",
    "#         return self.add\n",
    "    \n",
    "class B(A):\n",
    "    def __init__(self,name,age,add):\n",
    "        self.name=name\n",
    "        self.age=age\n",
    "        A.__init__(self,add)\n",
    "        \n",
    "    def hello(self):\n",
    "        print(f\"Hello my name is {name}.I am {age} years old.I am from {add} .\")\n",
    "\n",
    "\n",
    "name=input(\"enter name =\")\n",
    "age=int(input(\"enter age=\"))\n",
    "add=input(\"enter add=\")\n",
    "\n",
    "obj=B(name,age,add)\n",
    "obj.hello()\n",
    "              "
   ]
  },
  {
   "cell_type": "code",
   "execution_count": 1,
   "id": "3c28d04f",
   "metadata": {},
   "outputs": [
    {
     "name": "stdout",
     "output_type": "stream",
     "text": [
      "enter name=Paras Mani Shrestha\n",
      "enter contact=9844157007\n",
      "enter adress=Buddhanagar,New Baneshwor\n",
      "enter course=Python\n",
      "enter grade=A\n",
      "enter teacher name=Ayush Adhikari\n",
      "amount given in %=50\n",
      "scholarship in %=50\n",
      "internship name=Fuse Machine\n",
      "This is the details of student Paras Mani Shrestha ,who is from Buddhanagar,New Baneshwor .His/her contact no is 9844157007,enrolled in Python.He/she has got 50% scholarship and paid 50% of amount.He was taught by Mr. Ayush Adhikari and submitted the project securing grade A.And we congratulate him on getting internsip  at Fuse Machine.\n"
     ]
    }
   ],
   "source": [
    "#Assignment \n",
    "class A:\n",
    "    def __init__(self,name,contact,add,course):\n",
    "        self.name=name\n",
    "        self.contact=contact\n",
    "        self.course=course\n",
    "        \n",
    "class B(A):\n",
    "    def __init__(self,accounts,scholarship):\n",
    "        self.accounts=accounts\n",
    "        self.scholarship=scholarship\n",
    "        \n",
    "class C(B):\n",
    "    def __init__(self,grade,teacher,internship,accounts,scholarship,name,contact,add,course):\n",
    "        self.grade=grade\n",
    "        self.teacher=teacher\n",
    "        self.internship=internship\n",
    "        A.__init__(self,name,contact,add,course)\n",
    "        B.__init__(self,accounts,scholarship)\n",
    "        \n",
    "    def hello(self):\n",
    "        print(f\"This is the details of student {name} ,who is from {add} .His/her contact no is {contact},enrolled in {course}.He/she has got {scholarship}% scholarship and paid {accounts}% of amount.He was taught by Mr. {teacher} and submitted the project securing grade {grade}.And we congratulate him on getting internsip  at {internship}.\")\n",
    "\n",
    "name=input(\"enter name=\")\n",
    "contact=int(input(\"enter contact=\"))\n",
    "add=input(\"enter adress=\")\n",
    "course=input(\"enter course=\")\n",
    "grade=input(\"enter grade=\")\n",
    "teacher=input(\"enter teacher name=\")\n",
    "accounts=int(input(\"amount given in %=\"))\n",
    "scholarship=int(input(\"scholarship in %=\"))\n",
    "internship=input(\"internship name=\")\n",
    "\n",
    "        \n",
    "obj=C(grade,teacher,internship,accounts,scholarship,name,contact,add,course)\n",
    "obj.hello()\n",
    "            \n",
    "              \n"
   ]
  },
  {
   "cell_type": "code",
   "execution_count": 14,
   "id": "107271e8",
   "metadata": {},
   "outputs": [
    {
     "name": "stdout",
     "output_type": "stream",
     "text": [
      "enter name=Hari\n",
      "enter age=24\n",
      "enter add=New Baneshwor\n",
      "Hello my name is Hari .I am 24 years old.I am from New Baneshwor .\n",
      "my name is Hari.I am 24 years old.I am from New Baneshwor\n"
     ]
    }
   ],
   "source": [
    "#multiple inheritnace with 3 classes\n",
    "class A:\n",
    "    def __init__(self,add):\n",
    "        self.add=add\n",
    "        \n",
    "        \n",
    "    def my_add(self):\n",
    "        return self.add\n",
    "        \n",
    "class B(A):\n",
    "    def __init__(self,age,add):\n",
    "        self.age=age\n",
    "        \n",
    "        A.__init__(self,add)\n",
    "        \n",
    "    def my_info(self):\n",
    "        print(f\"my name is {name}.I am {self.age} years old.I am from {add}\")\n",
    "    \n",
    "class C(B):\n",
    "    def __init__(self,name,age,add):\n",
    "        self.name=name\n",
    "        \n",
    "        B.__init__(self,age,add)\n",
    "        \n",
    "    def hello(self):\n",
    "        print(f\"Hello my name is {self.name} .I am {self.age} years old.I am from {self.add} .\")\n",
    "        \n",
    "name=input(\"enter name=\")\n",
    "age=int(input(\"enter age=\"))\n",
    "add=input(\"enter add=\")\n",
    "\n",
    "obj=C(name,age,add)\n",
    "obj.hello()    \n",
    "obj.my_info()\n",
    "        \n",
    "        \n",
    "        \n",
    "    "
   ]
  },
  {
   "cell_type": "code",
   "execution_count": 5,
   "id": "aa9d7001",
   "metadata": {},
   "outputs": [
    {
     "name": "stdout",
     "output_type": "stream",
     "text": [
      "Ram\n",
      "23\n",
      "Kathmandu\n"
     ]
    }
   ],
   "source": [
    "#protected properties\n",
    "class Info:\n",
    "    def __init__(self,name,age,add):\n",
    "        self._name=name\n",
    "        self._age=age\n",
    "        self._add=add\n",
    "        \n",
    "        \n",
    "obj=Info(\"Ram\",23,\"Kathmandu\")\n",
    "print(obj._name)\n",
    "print(obj._age)\n",
    "print(obj._add)"
   ]
  },
  {
   "cell_type": "code",
   "execution_count": 6,
   "id": "78471105",
   "metadata": {},
   "outputs": [
    {
     "ename": "AttributeError",
     "evalue": "'Info' object has no attribute '__name'",
     "output_type": "error",
     "traceback": [
      "\u001b[1;31m---------------------------------------------------------------------------\u001b[0m",
      "\u001b[1;31mAttributeError\u001b[0m                            Traceback (most recent call last)",
      "\u001b[1;32m~\\AppData\\Local\\Temp/ipykernel_9820/1393834527.py\u001b[0m in \u001b[0;36m<module>\u001b[1;34m\u001b[0m\n\u001b[0;32m      7\u001b[0m \u001b[1;33m\u001b[0m\u001b[0m\n\u001b[0;32m      8\u001b[0m \u001b[0mobj\u001b[0m\u001b[1;33m=\u001b[0m\u001b[0mInfo\u001b[0m\u001b[1;33m(\u001b[0m\u001b[1;34m\"Ram\"\u001b[0m\u001b[1;33m,\u001b[0m\u001b[1;36m23\u001b[0m\u001b[1;33m,\u001b[0m\u001b[1;34m\"Kathmandu\"\u001b[0m\u001b[1;33m)\u001b[0m\u001b[1;33m\u001b[0m\u001b[1;33m\u001b[0m\u001b[0m\n\u001b[1;32m----> 9\u001b[1;33m \u001b[0mprint\u001b[0m\u001b[1;33m(\u001b[0m\u001b[0mobj\u001b[0m\u001b[1;33m.\u001b[0m\u001b[0m__name\u001b[0m\u001b[1;33m)\u001b[0m\u001b[1;33m\u001b[0m\u001b[1;33m\u001b[0m\u001b[0m\n\u001b[0m\u001b[0;32m     10\u001b[0m \u001b[0mprint\u001b[0m\u001b[1;33m(\u001b[0m\u001b[0mobj\u001b[0m\u001b[1;33m.\u001b[0m\u001b[0m__age\u001b[0m\u001b[1;33m)\u001b[0m\u001b[1;33m\u001b[0m\u001b[1;33m\u001b[0m\u001b[0m\n\u001b[0;32m     11\u001b[0m \u001b[0mprint\u001b[0m\u001b[1;33m(\u001b[0m\u001b[0mobj\u001b[0m\u001b[1;33m.\u001b[0m\u001b[0m__add\u001b[0m\u001b[1;33m)\u001b[0m\u001b[1;33m\u001b[0m\u001b[1;33m\u001b[0m\u001b[0m\n",
      "\u001b[1;31mAttributeError\u001b[0m: 'Info' object has no attribute '__name'"
     ]
    }
   ],
   "source": [
    "# Private properties\n",
    "class Info:\n",
    "    def __init__(self,name,age,add):\n",
    "        self.__name=name\n",
    "        self.__age=age\n",
    "        self.__add=add\n",
    "        \n",
    "        \n",
    "obj=Info(\"Ram\",23,\"Kathmandu\")\n",
    "print(obj.__name)\n",
    "print(obj.__age)\n",
    "print(obj.__add)"
   ]
  },
  {
   "cell_type": "code",
   "execution_count": 38,
   "id": "552787ec",
   "metadata": {},
   "outputs": [
    {
     "name": "stdout",
     "output_type": "stream",
     "text": [
      "Ram\n",
      "23\n",
      "Kathmandu\n"
     ]
    }
   ],
   "source": [
    "# Name membling\n",
    "class Info:\n",
    "    def __init__(self,name,age,add):\n",
    "        self.__name=name\n",
    "        self.__age=age\n",
    "        self.__add=add\n",
    "        \n",
    "        \n",
    "obj=Info(\"Ram\",23,\"Kathmandu\")\n",
    "print(obj._Info__name)\n",
    "print(obj._Info__age)\n",
    "print(obj._Info__add)\n"
   ]
  },
  {
   "cell_type": "code",
   "execution_count": 9,
   "id": "aff9df90",
   "metadata": {},
   "outputs": [
    {
     "name": "stdout",
     "output_type": "stream",
     "text": [
      "enter name=Paras\n",
      "enter age=25\n",
      "enter add=Buddhanagar\n",
      "Hello world my name is Paras .I am 25 years old.I am from Buddhanagar.\n",
      "Hello world my name is Paras .I am 25 years old.I am from Buddhanagar.\n"
     ]
    },
    {
     "data": {
      "text/plain": [
       "<bound method A.my_add of <__main__.C object at 0x0000025B15A9ADF0>>"
      ]
     },
     "execution_count": 9,
     "metadata": {},
     "output_type": "execute_result"
    }
   ],
   "source": [
    "class A:\n",
    "    def __init__(self,add):\n",
    "        self.add=add\n",
    "        \n",
    "    def my_add(self):\n",
    "        return self.add\n",
    "        \n",
    "\n",
    "        \n",
    "class B:\n",
    "    def __init__(self,age):\n",
    "        self.age=age\n",
    "        \n",
    "    def helo(self):\n",
    "        print(f\"Hello world my name is Ram .I am {self.age} years old.I am from {add}.\")\n",
    "        \n",
    "        \n",
    "    \n",
    "        \n",
    "class C(A,B):\n",
    "    def __init__(self,name,age,add):\n",
    "        self.name=name\n",
    "        A.__init__(self,add)\n",
    "        B.__init__(self,age)\n",
    "        \n",
    "    def hello(self):\n",
    "        print(f\"Hello world my name is {self.name} .I am {self.age} years old.I am from {add}.\")\n",
    "              \n",
    "\n",
    "name=input(\"enter name=\")\n",
    "age=int(input(\"enter age=\"))\n",
    "add=input(\"enter add=\")\n",
    "            \n",
    "obj=C(name,age,add)\n",
    "obj.hello()\n",
    "obj.helo()\n",
    "obj.my_add\n",
    "\n",
    "              \n",
    "\n",
    "        "
   ]
  },
  {
   "cell_type": "code",
   "execution_count": 36,
   "id": "8ef90f4d",
   "metadata": {},
   "outputs": [
    {
     "name": "stdout",
     "output_type": "stream",
     "text": [
      "Ram\n",
      "23\n",
      "Maha Boudha\n",
      "Hari,24,New Baneshwor\n"
     ]
    }
   ],
   "source": [
    "class A:\n",
    "     def __init__(self,name,age,add):\n",
    "        self._name=name\n",
    "        self._age=age\n",
    "        self._add=add\n",
    "    \n",
    "     def hello(self):\n",
    "        print(f\"{name},{age},{add}\")\n",
    "        \n",
    "obj=A(\"Ram\",23,\"Maha Boudha\")\n",
    "print(obj._name)\n",
    "print(obj._age)\n",
    "print(obj._add)\n",
    "obj.hello()\n",
    "\n",
    "        "
   ]
  },
  {
   "cell_type": "code",
   "execution_count": 1,
   "id": "8c1661ba",
   "metadata": {},
   "outputs": [
    {
     "name": "stdout",
     "output_type": "stream",
     "text": [
      "Ram\n",
      "23\n",
      "Maha Boudha\n"
     ]
    }
   ],
   "source": [
    "class A:\n",
    "     def __init__(self,name,age,add):\n",
    "        self.name=name\n",
    "        self.age=age\n",
    "        self.add=add\n",
    "        \n",
    "obj=A(\"Ram\",23,\"Maha Boudha\")\n",
    "print(obj.name)\n",
    "print(obj.age)\n",
    "print(obj.add)"
   ]
  },
  {
   "cell_type": "code",
   "execution_count": 11,
   "id": "579dccd0",
   "metadata": {},
   "outputs": [
    {
     "name": "stdout",
     "output_type": "stream",
     "text": [
      "Parrot can fly\n",
      "Parrot can't swim\n",
      "Penguin cant fly\n",
      "Penguin can swim\n"
     ]
    }
   ],
   "source": [
    "#Polymorphism\n",
    "class Parrot:\n",
    "    def fly(self):\n",
    "        print(\"Parrot can fly\")\n",
    "    \n",
    "    def swim(self):\n",
    "        print(\"Parrot can't swim\")\n",
    "        \n",
    "class Penguin:\n",
    "    def fly(self):\n",
    "        print(\"Penguin cant fly\")\n",
    "    def swim(self):\n",
    "        print(\"Penguin can swim\")\n",
    "    \n",
    "    \n",
    "def test(bird):\n",
    "    bird.fly()\n",
    "    bird.swim()\n",
    "# def swimming_test(bird):\n",
    "#     bird.swim()\n",
    "    \n",
    "blu=Parrot()\n",
    "peggy=Penguin()\n",
    "test(blu)\n",
    "test(peggy)\n",
    "# swimming_test(blu)\n",
    "# swimming_test(peggy)"
   ]
  },
  {
   "cell_type": "code",
   "execution_count": 14,
   "id": "ce97aa96",
   "metadata": {},
   "outputs": [
    {
     "name": "stdout",
     "output_type": "stream",
     "text": [
      "Enter number = 1\n",
      "Enter Name: 23\n",
      "Enter Roll: 2\n",
      "Marks of physics: 3\n",
      "Marks of maths: 2\n",
      "Marks of English: 3\n",
      "Marks of CS: 2\n",
      "Marks of Nepali: 2\n"
     ]
    },
    {
     "ename": "NameError",
     "evalue": "name 'df' is not defined",
     "output_type": "error",
     "traceback": [
      "\u001b[1;31m---------------------------------------------------------------------------\u001b[0m",
      "\u001b[1;31mNameError\u001b[0m                                 Traceback (most recent call last)",
      "\u001b[1;32m~\\AppData\\Local\\Temp/ipykernel_5012/4221530132.py\u001b[0m in \u001b[0;36m<module>\u001b[1;34m\u001b[0m\n\u001b[0;32m     43\u001b[0m     \u001b[0ms5\u001b[0m\u001b[1;33m=\u001b[0m\u001b[0mfloat\u001b[0m\u001b[1;33m(\u001b[0m\u001b[0minput\u001b[0m\u001b[1;33m(\u001b[0m\u001b[1;34m\"Marks of Nepali: \"\u001b[0m\u001b[1;33m)\u001b[0m\u001b[1;33m)\u001b[0m\u001b[1;33m\u001b[0m\u001b[1;33m\u001b[0m\u001b[0m\n\u001b[0;32m     44\u001b[0m     \u001b[0mstu\u001b[0m\u001b[1;33m=\u001b[0m\u001b[0mCalc\u001b[0m\u001b[1;33m(\u001b[0m\u001b[0ms1\u001b[0m\u001b[1;33m,\u001b[0m\u001b[0ms2\u001b[0m\u001b[1;33m,\u001b[0m\u001b[0ms3\u001b[0m\u001b[1;33m,\u001b[0m\u001b[0ms4\u001b[0m\u001b[1;33m,\u001b[0m\u001b[0ms5\u001b[0m\u001b[1;33m,\u001b[0m\u001b[0mname\u001b[0m\u001b[1;33m,\u001b[0m\u001b[0mroll\u001b[0m\u001b[1;33m)\u001b[0m\u001b[1;33m\u001b[0m\u001b[1;33m\u001b[0m\u001b[0m\n\u001b[1;32m---> 45\u001b[1;33m     \u001b[0mstu\u001b[0m\u001b[1;33m.\u001b[0m\u001b[0madd\u001b[0m\u001b[1;33m(\u001b[0m\u001b[1;33m)\u001b[0m\u001b[1;33m\u001b[0m\u001b[1;33m\u001b[0m\u001b[0m\n\u001b[0m\u001b[0;32m     46\u001b[0m \u001b[0mdf\u001b[0m\u001b[1;33m=\u001b[0m\u001b[0mpd\u001b[0m\u001b[1;33m.\u001b[0m\u001b[0mread_csv\u001b[0m\u001b[1;33m(\u001b[0m\u001b[1;34m'results.csv'\u001b[0m\u001b[1;33m)\u001b[0m\u001b[1;33m\u001b[0m\u001b[1;33m\u001b[0m\u001b[0m\n\u001b[0;32m     47\u001b[0m \u001b[0mdf\u001b[0m\u001b[1;33m\u001b[0m\u001b[1;33m\u001b[0m\u001b[0m\n",
      "\u001b[1;32m~\\AppData\\Local\\Temp/ipykernel_5012/4221530132.py\u001b[0m in \u001b[0;36madd\u001b[1;34m(self)\u001b[0m\n\u001b[0;32m     32\u001b[0m         \u001b[0mdata\u001b[0m\u001b[1;33m=\u001b[0m\u001b[1;34mf\"{self.name},{self.roll},{self.s1},{self.s2},{self.s3},{self.s4},{self.s5},{res[0]},{res[1]}\\n\"\u001b[0m\u001b[1;33m\u001b[0m\u001b[1;33m\u001b[0m\u001b[0m\n\u001b[0;32m     33\u001b[0m         \u001b[0mf\u001b[0m\u001b[1;33m.\u001b[0m\u001b[0mwrite\u001b[0m\u001b[1;33m(\u001b[0m\u001b[0mdata\u001b[0m\u001b[1;33m)\u001b[0m\u001b[1;33m\u001b[0m\u001b[1;33m\u001b[0m\u001b[0m\n\u001b[1;32m---> 34\u001b[1;33m         \u001b[1;32mreturn\u001b[0m \u001b[0mdf\u001b[0m\u001b[1;33m\u001b[0m\u001b[1;33m\u001b[0m\u001b[0m\n\u001b[0m\u001b[0;32m     35\u001b[0m     \u001b[0mi\u001b[0m\u001b[1;33m=\u001b[0m\u001b[0mint\u001b[0m\u001b[1;33m(\u001b[0m\u001b[0minput\u001b[0m\u001b[1;33m(\u001b[0m\u001b[1;34m\"Enter number = \"\u001b[0m\u001b[1;33m)\u001b[0m\u001b[1;33m)\u001b[0m\u001b[1;33m\u001b[0m\u001b[1;33m\u001b[0m\u001b[0m\n\u001b[0;32m     36\u001b[0m \u001b[1;32mfor\u001b[0m \u001b[0mj\u001b[0m \u001b[1;32min\u001b[0m \u001b[0mrange\u001b[0m\u001b[1;33m(\u001b[0m\u001b[0mi\u001b[0m\u001b[1;33m)\u001b[0m\u001b[1;33m:\u001b[0m\u001b[1;33m\u001b[0m\u001b[1;33m\u001b[0m\u001b[0m\n",
      "\u001b[1;31mNameError\u001b[0m: name 'df' is not defined"
     ]
    }
   ],
   "source": [
    "f=open('results.csv','w')\n",
    "f.write(\"Name,Roll,Physics,Math,English,CS,Nepali,Total,Percentage\\n\")\n",
    "f.close()\n",
    "import pandas as pd\n",
    "class N:\n",
    "    def __init__(self,name):\n",
    "        self.name=name\n",
    "    def _stuname(self):\n",
    "        return self.name\n",
    "class R:\n",
    "    def __init__(self,roll):\n",
    "        self.roll=roll\n",
    "    def _sturoll(self):\n",
    "        return self.roll\n",
    "class Calc(N,R):\n",
    "    def __init__(self,s1,s2,s3,s4,s5,name,roll):\n",
    "        self.s1=s1\n",
    "        self.s2=s2\n",
    "        self.s3=s3\n",
    "        self.s4=s4\n",
    "        self.s5=s5\n",
    "        N.__init__(self,name)\n",
    "        R.__init__(self,roll)\n",
    "    def calcn(self):\n",
    "        total=self.s1+self.s2+self.s3+self.s4+self.s5\n",
    "        percent=(total/500)*100\n",
    "        res=[total, percent]\n",
    "        return res\n",
    "    def add(self):\n",
    "        f=open('results.csv','a')\n",
    "        res=self.calcn()\n",
    "        data=f\"{self.name},{self.roll},{self.s1},{self.s2},{self.s3},{self.s4},{self.s5},{res[0]},{res[1]}\\n\"\n",
    "        f.write(data)\n",
    "        return df\n",
    "    i=int(input(\"Enter number = \"))\n",
    "for j in range(i):\n",
    "    name=input(\"Enter Name: \")\n",
    "    roll=int(input(\"Enter Roll: \"))\n",
    "    s1=float(input(\"Marks of physics: \"))\n",
    "    s2=float(input(\"Marks of maths: \"))\n",
    "    s3=float(input(\"Marks of English: \"))\n",
    "    s4=float(input(\"Marks of CS: \"))\n",
    "    s5=float(input(\"Marks of Nepali: \"))\n",
    "    stu=Calc(s1,s2,s3,s4,s5,name,roll)\n",
    "    stu.add()  \n",
    "df=pd.read_csv('results.csv')\n",
    "df"
   ]
  },
  {
   "cell_type": "code",
   "execution_count": 13,
   "id": "41c82d6c",
   "metadata": {},
   "outputs": [
    {
     "name": "stdout",
     "output_type": "stream",
     "text": [
      "Enter number = 1\n",
      "Enter Name: Ravi\n",
      "Enter Roll: 23\n",
      "Marks of physics: 35\n",
      "Marks of maths: 45\n",
      "Marks of English: 30\n",
      "Marks of CS: 30\n",
      "Marks of Nepali: 45\n"
     ]
    },
    {
     "ename": "NameError",
     "evalue": "name 'df' is not defined",
     "output_type": "error",
     "traceback": [
      "\u001b[1;31m---------------------------------------------------------------------------\u001b[0m",
      "\u001b[1;31mNameError\u001b[0m                                 Traceback (most recent call last)",
      "\u001b[1;32m~\\AppData\\Local\\Temp/ipykernel_5012/2753081768.py\u001b[0m in \u001b[0;36m<module>\u001b[1;34m\u001b[0m\n\u001b[0;32m      9\u001b[0m     \u001b[0ms5\u001b[0m\u001b[1;33m=\u001b[0m\u001b[0mfloat\u001b[0m\u001b[1;33m(\u001b[0m\u001b[0minput\u001b[0m\u001b[1;33m(\u001b[0m\u001b[1;34m\"Marks of Nepali: \"\u001b[0m\u001b[1;33m)\u001b[0m\u001b[1;33m)\u001b[0m\u001b[1;33m\u001b[0m\u001b[1;33m\u001b[0m\u001b[0m\n\u001b[0;32m     10\u001b[0m     \u001b[0mstu\u001b[0m\u001b[1;33m=\u001b[0m\u001b[0mCalc\u001b[0m\u001b[1;33m(\u001b[0m\u001b[0ms1\u001b[0m\u001b[1;33m,\u001b[0m\u001b[0ms2\u001b[0m\u001b[1;33m,\u001b[0m\u001b[0ms3\u001b[0m\u001b[1;33m,\u001b[0m\u001b[0ms4\u001b[0m\u001b[1;33m,\u001b[0m\u001b[0ms5\u001b[0m\u001b[1;33m,\u001b[0m\u001b[0mname\u001b[0m\u001b[1;33m,\u001b[0m\u001b[0mroll\u001b[0m\u001b[1;33m)\u001b[0m\u001b[1;33m\u001b[0m\u001b[1;33m\u001b[0m\u001b[0m\n\u001b[1;32m---> 11\u001b[1;33m     \u001b[0mstu\u001b[0m\u001b[1;33m.\u001b[0m\u001b[0madd\u001b[0m\u001b[1;33m(\u001b[0m\u001b[1;33m)\u001b[0m\u001b[1;33m\u001b[0m\u001b[1;33m\u001b[0m\u001b[0m\n\u001b[0m\u001b[0;32m     12\u001b[0m \u001b[0mdf\u001b[0m\u001b[1;33m=\u001b[0m\u001b[0mpd\u001b[0m\u001b[1;33m.\u001b[0m\u001b[0mread_csv\u001b[0m\u001b[1;33m(\u001b[0m\u001b[1;34m'results.csv'\u001b[0m\u001b[1;33m)\u001b[0m\u001b[1;33m\u001b[0m\u001b[1;33m\u001b[0m\u001b[0m\n\u001b[0;32m     13\u001b[0m \u001b[0mdf\u001b[0m\u001b[1;33m\u001b[0m\u001b[1;33m\u001b[0m\u001b[0m\n",
      "\u001b[1;32m~\\AppData\\Local\\Temp/ipykernel_5012/2505639184.py\u001b[0m in \u001b[0;36madd\u001b[1;34m(self)\u001b[0m\n\u001b[0;32m     32\u001b[0m         \u001b[0mdata\u001b[0m\u001b[1;33m=\u001b[0m\u001b[1;34mf\"{self.name},{self.roll},{self.s1},{self.s2},{self.s3},{self.s4},{self.s5},{res[0]},{res[1]}\\n\"\u001b[0m\u001b[1;33m\u001b[0m\u001b[1;33m\u001b[0m\u001b[0m\n\u001b[0;32m     33\u001b[0m         \u001b[0mf\u001b[0m\u001b[1;33m.\u001b[0m\u001b[0mwrite\u001b[0m\u001b[1;33m(\u001b[0m\u001b[0mdata\u001b[0m\u001b[1;33m)\u001b[0m\u001b[1;33m\u001b[0m\u001b[1;33m\u001b[0m\u001b[0m\n\u001b[1;32m---> 34\u001b[1;33m         \u001b[1;32mreturn\u001b[0m \u001b[0mdf\u001b[0m\u001b[1;33m\u001b[0m\u001b[1;33m\u001b[0m\u001b[0m\n\u001b[0m\u001b[0;32m     35\u001b[0m \u001b[1;33m\u001b[0m\u001b[0m\n",
      "\u001b[1;31mNameError\u001b[0m: name 'df' is not defined"
     ]
    }
   ],
   "source": []
  },
  {
   "cell_type": "code",
   "execution_count": null,
   "id": "31cd1c43",
   "metadata": {},
   "outputs": [],
   "source": []
  }
 ],
 "metadata": {
  "kernelspec": {
   "display_name": "Python 3 (ipykernel)",
   "language": "python",
   "name": "python3"
  },
  "language_info": {
   "codemirror_mode": {
    "name": "ipython",
    "version": 3
   },
   "file_extension": ".py",
   "mimetype": "text/x-python",
   "name": "python",
   "nbconvert_exporter": "python",
   "pygments_lexer": "ipython3",
   "version": "3.9.7"
  }
 },
 "nbformat": 4,
 "nbformat_minor": 5
}
