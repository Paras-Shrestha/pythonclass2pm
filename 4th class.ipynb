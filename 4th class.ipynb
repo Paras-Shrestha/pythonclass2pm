{
 "cells": [
  {
   "cell_type": "code",
   "execution_count": 8,
   "id": "696924ee",
   "metadata": {},
   "outputs": [
    {
     "name": "stdout",
     "output_type": "stream",
     "text": [
      "enter a num=10\n",
      "num is even and +ve\n"
     ]
    }
   ],
   "source": [
    "n=int(input(\"enter a num=\"))\n",
    "if n>=0:\n",
    "    if n%2==0:\n",
    "        print(\"num is even and +ve\")\n",
    "    else:\n",
    "        print(\"num is odd and +ve\")\n",
    "else:\n",
    "    print(\"num is -ve\")"
   ]
  },
  {
   "cell_type": "code",
   "execution_count": 11,
   "id": "ffea0fe1",
   "metadata": {},
   "outputs": [
    {
     "name": "stdout",
     "output_type": "stream",
     "text": [
      "enter a num=3\n",
      "enter a num=0\n",
      "enter +-*//\n",
      "value of  b cannot be zero\n"
     ]
    }
   ],
   "source": [
    "a=int(input(\"enter a num=\"))\n",
    "b=int(input(\"enter a num=\"))\n",
    "o=input(\"enter +-*/\")\n",
    "if o==\"+\":\n",
    "  print(\"a+b\")\n",
    "elif o==\"-\":\n",
    " print(\"a-b\")\n",
    "elif o==\"*\":\n",
    " print(\"a*b\")\n",
    "elif o==\"/\":\n",
    "    if b!=0:\n",
    "        print(\"a/b\")\n",
    "    else:\n",
    "        print(\"value of  b cannot be zero\")\n",
    "else:\n",
    "    print(\"Invalid operator\")"
   ]
  },
  {
   "cell_type": "code",
   "execution_count": 13,
   "id": "72f11fb5",
   "metadata": {},
   "outputs": [
    {
     "name": "stdout",
     "output_type": "stream",
     "text": [
      "enter physics marks=4\n",
      "enter chemistry marks=4\n",
      "enter math marks=4\n",
      "enter english marks=4\n",
      "enter nepali marks=4\n",
      "Fail\n"
     ]
    }
   ],
   "source": [
    "physics=int(input(\"enter physics marks=\"))\n",
    "chemistry=int(input(\"enter chemistry marks=\"))\n",
    "math=int(input(\"enter math marks=\"))\n",
    "english=int(input(\"enter english marks=\"))\n",
    "nepali=int(input(\"enter nepali marks=\"))\n",
    "\n",
    "total=physics+chemistry+math+english+nepali\n",
    "per = total/5\n",
    "\n",
    "if per>=80:\n",
    "    print(\"A grade\")\n",
    "elif per>=60:\n",
    "    print(\"B grade\")\n",
    "elif per>=40:\n",
    "    print(\"C grade\")\n",
    "else:\n",
    "    print(\"Fail\")\n"
   ]
  },
  {
   "cell_type": "code",
   "execution_count": 15,
   "id": "bbc62ae7",
   "metadata": {},
   "outputs": [
    {
     "name": "stdout",
     "output_type": "stream",
     "text": [
      "0\n",
      "1\n",
      "2\n",
      "3\n",
      "4\n"
     ]
    }
   ],
   "source": [
    "for i in range(5):\n",
    "   print(i)"
   ]
  },
  {
   "cell_type": "code",
   "execution_count": 16,
   "id": "393342bd",
   "metadata": {},
   "outputs": [
    {
     "name": "stdout",
     "output_type": "stream",
     "text": [
      "enter a num7\n",
      "0\n",
      "7\n",
      "14\n",
      "21\n",
      "28\n",
      "35\n",
      "42\n",
      "49\n",
      "56\n",
      "63\n",
      "70\n"
     ]
    }
   ],
   "source": [
    "n=int(input(\"enter a num\"))\n",
    "for i in range(0,11):\n",
    "    print(n*i)"
   ]
  },
  {
   "cell_type": "code",
   "execution_count": 3,
   "id": "42c54a81",
   "metadata": {},
   "outputs": [
    {
     "name": "stdout",
     "output_type": "stream",
     "text": [
      "enter value of n=8\n",
      "enter x=8\n",
      "8\n",
      "enter x=8\n",
      "16\n",
      "enter x=8\n",
      "24\n",
      "enter x=8\n",
      "32\n",
      "enter x=8\n",
      "40\n",
      "enter x=8\n",
      "48\n",
      "enter x=8\n",
      "56\n",
      "enter x=8\n",
      "64\n"
     ]
    }
   ],
   "source": [
    "s=0\n",
    "n=int(input(\"enter value of n=\"))\n",
    "for i in range(n):\n",
    "    x=int(input(\"enter x=\"))\n",
    "    s=s+x\n",
    "    print(s)"
   ]
  },
  {
   "cell_type": "markdown",
   "id": "f58fc5d1",
   "metadata": {},
   "source": []
  },
  {
   "cell_type": "code",
   "execution_count": 18,
   "id": "08d9cae6",
   "metadata": {},
   "outputs": [
    {
     "name": "stdout",
     "output_type": "stream",
     "text": [
      "54321"
     ]
    }
   ],
   "source": [
    "for i in range(5,0,-1):\n",
    "    print(i,end=\"\")"
   ]
  },
  {
   "cell_type": "code",
   "execution_count": 21,
   "id": "693b39fc",
   "metadata": {},
   "outputs": [
    {
     "name": "stdout",
     "output_type": "stream",
     "text": [
      "enter a num=3\n",
      "1\n",
      "2\n",
      "6\n"
     ]
    }
   ],
   "source": [
    "fac=1\n",
    "n=int(input(\"enter a num=\"))\n",
    "if n>=0:\n",
    "    for i in range(1,n+1):\n",
    "        fac=fac*i\n",
    "        print(fac)"
   ]
  },
  {
   "cell_type": "raw",
   "id": "bbf2dcdd",
   "metadata": {},
   "source": []
  },
  {
   "cell_type": "markdown",
   "id": "8ec24563",
   "metadata": {},
   "source": [
    "### a=\"Python\"\n",
    "for i in a:\n",
    "    print(i,end=\"\\t\")\n"
   ]
  },
  {
   "cell_type": "code",
   "execution_count": 19,
   "id": "83dc341f",
   "metadata": {},
   "outputs": [
    {
     "data": {
      "text/plain": [
       "False"
      ]
     },
     "execution_count": 19,
     "metadata": {},
     "output_type": "execute_result"
    }
   ],
   "source": [
    "True and False"
   ]
  },
  {
   "cell_type": "code",
   "execution_count": 12,
   "id": "a7912b3f",
   "metadata": {},
   "outputs": [
    {
     "data": {
      "text/plain": [
       "True"
      ]
     },
     "execution_count": 12,
     "metadata": {},
     "output_type": "execute_result"
    }
   ],
   "source": [
    "True or False\n"
   ]
  },
  {
   "cell_type": "code",
   "execution_count": 17,
   "id": "bfe646e8",
   "metadata": {},
   "outputs": [
    {
     "name": "stdout",
     "output_type": "stream",
     "text": [
      "enter value of n=3\n",
      "1 * 4 1\n",
      "2 * 4 4\n",
      "6 * 4 18\n"
     ]
    }
   ],
   "source": []
  },
  {
   "cell_type": "code",
   "execution_count": null,
   "id": "d1cb7062",
   "metadata": {},
   "outputs": [],
   "source": []
  },
  {
   "cell_type": "code",
   "execution_count": null,
   "id": "d628cef9",
   "metadata": {},
   "outputs": [],
   "source": []
  }
 ],
 "metadata": {
  "kernelspec": {
   "display_name": "Python 3 (ipykernel)",
   "language": "python",
   "name": "python3"
  },
  "language_info": {
   "codemirror_mode": {
    "name": "ipython",
    "version": 3
   },
   "file_extension": ".py",
   "mimetype": "text/x-python",
   "name": "python",
   "nbconvert_exporter": "python",
   "pygments_lexer": "ipython3",
   "version": "3.9.7"
  }
 },
 "nbformat": 4,
 "nbformat_minor": 5
}
