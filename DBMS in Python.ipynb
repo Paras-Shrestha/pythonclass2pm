{
 "cells": [
  {
   "cell_type": "code",
   "execution_count": 4,
   "id": "89c347ee",
   "metadata": {},
   "outputs": [],
   "source": [
    "# Python +  My SQL\n",
    "import mysql.connector as dbs #importing database\n",
    "\n",
    "database=dbs.connect(\n",
    "    host=\"localhost\",\n",
    "    user=\"root\",\n",
    "    password=\"\",\n",
    "    database=\"class2pm\"\n",
    ")\n",
    "db=database.cursor()"
   ]
  },
  {
   "cell_type": "code",
   "execution_count": 2,
   "id": "69f7bb73",
   "metadata": {},
   "outputs": [
    {
     "name": "stdout",
     "output_type": "stream",
     "text": [
      "(1, 'Nabin', 77, 89, 84, 45, 67, 344, 75.0, \"'A'\")\n"
     ]
    }
   ],
   "source": [
    "db.execute(\"SELECT * FROM student\")\n",
    "result =db.fetchall()\n",
    "for x in result:\n",
    "    print(x)"
   ]
  },
  {
   "cell_type": "code",
   "execution_count": 5,
   "id": "bbf247ea",
   "metadata": {},
   "outputs": [],
   "source": [
    "sql='''INSERT INTO student(SN, Name, Physics, Chemistry, Math, English, Nepali, Total, Percentage, Grade)\n",
    "VALUES (5,'Ram',35,45,50,46,67,400,80,'A')'''\n",
    "db.execute(sql)\n",
    "database.commit()"
   ]
  },
  {
   "cell_type": "code",
   "execution_count": null,
   "id": "5fb2c408",
   "metadata": {},
   "outputs": [],
   "source": []
  },
  {
   "cell_type": "code",
   "execution_count": null,
   "id": "d748fb78",
   "metadata": {},
   "outputs": [],
   "source": []
  }
 ],
 "metadata": {
  "kernelspec": {
   "display_name": "Python 3 (ipykernel)",
   "language": "python",
   "name": "python3"
  },
  "language_info": {
   "codemirror_mode": {
    "name": "ipython",
    "version": 3
   },
   "file_extension": ".py",
   "mimetype": "text/x-python",
   "name": "python",
   "nbconvert_exporter": "python",
   "pygments_lexer": "ipython3",
   "version": "3.9.7"
  }
 },
 "nbformat": 4,
 "nbformat_minor": 5
}
