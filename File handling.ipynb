{
 "cells": [
  {
   "cell_type": "code",
   "execution_count": 2,
   "id": "69b117bc",
   "metadata": {},
   "outputs": [
    {
     "name": "stdout",
     "output_type": "stream",
     "text": [
      "Error occured\n"
     ]
    }
   ],
   "source": [
    "try:\n",
    "    b.open('datas.txt','x')\n",
    "    b.close()\n",
    "\n",
    "except:\n",
    "    print(\"Error occured\")\n",
    "    "
   ]
  },
  {
   "cell_type": "code",
   "execution_count": 5,
   "id": "80de963d",
   "metadata": {},
   "outputs": [],
   "source": [
    "b=open('datas.txt','x')\n",
    "b.close()"
   ]
  },
  {
   "cell_type": "code",
   "execution_count": 9,
   "id": "deb8cc61",
   "metadata": {},
   "outputs": [
    {
     "name": "stdout",
     "output_type": "stream",
     "text": [
      "1.Hello world\n",
      "2.Hello world\n",
      "3.Hello world\n",
      "4.Hello world\n",
      "5.Hello world\n"
     ]
    }
   ],
   "source": [
    "b=open('datas.txt','r')\n",
    "print(b.read())\n",
    "b.close()"
   ]
  },
  {
   "cell_type": "code",
   "execution_count": 11,
   "id": "47bc8603",
   "metadata": {},
   "outputs": [
    {
     "name": "stdout",
     "output_type": "stream",
     "text": [
      "enter x=2\n",
      "4.0\n"
     ]
    }
   ],
   "source": [
    "import math as m\n",
    "x=int(input(\"enter x=\"))\n",
    "print(m.pow(x,2))"
   ]
  },
  {
   "cell_type": "code",
   "execution_count": 12,
   "id": "a41a8a1b",
   "metadata": {},
   "outputs": [],
   "source": [
    "b=open('datas.txt','w')\n",
    "b.write(\"Hello world i am python\")\n",
    "b.close()"
   ]
  },
  {
   "cell_type": "code",
   "execution_count": 13,
   "id": "518458e5",
   "metadata": {},
   "outputs": [
    {
     "name": "stdout",
     "output_type": "stream",
     "text": [
      "enter value of n=2\n",
      "enter product name=ram\n",
      "enter price=12\n",
      "enter product qty=1\n",
      "enter product name=ramen\n",
      "enter price=1\n",
      "enter product qty=1\n",
      "ram 12 1 12\n",
      "ramen 1 1 1\n",
      "\n"
     ]
    }
   ],
   "source": [
    "n=int(input(\"enter value of n=\"))\n",
    "bill=\"\"\n",
    "for i in range(n):\n",
    "    name=input(\"enter product name=\")\n",
    "    price=int(input(\"enter price=\"))\n",
    "    qty=int(input(\"enter product qty=\"))\n",
    "    total=price*qty\n",
    "    data=f\"{name} {price} {qty} {total}\\n\"\n",
    "    bill=bill+data\n",
    "print(bill)"
   ]
  },
  {
   "cell_type": "code",
   "execution_count": 21,
   "id": "8f5dfc58",
   "metadata": {},
   "outputs": [],
   "source": [
    "b=open('datas.txt','w')\n",
    "b.write(\"Product,Price,Quantity,Total\\n\")\n",
    "b.write(bill)\n",
    "b.close()"
   ]
  },
  {
   "cell_type": "code",
   "execution_count": 1,
   "id": "4e0779a2",
   "metadata": {},
   "outputs": [],
   "source": [
    "try:\n",
    "    b=open('datas.txt','a')\n",
    "    b.write(\"ramen not in stock\")\n",
    "    b.close()\n",
    "except:\n",
    "    print(\"error occured\")"
   ]
  },
  {
   "cell_type": "code",
   "execution_count": 6,
   "id": "3a6f8a19",
   "metadata": {},
   "outputs": [
    {
     "name": "stdout",
     "output_type": "stream",
     "text": [
      "enter no of items=2\n",
      "enter product name=momo\n",
      "enter price=130\n",
      "enter qty=2\n",
      "enter product name=Chowmein\n",
      "enter price=130\n",
      "enter qty=2\n",
      "momo,130,2,260\n",
      "Chowmein,130,2,260\n",
      "\n"
     ]
    }
   ],
   "source": [
    "n=int(input(\"enter no of items=\"))\n",
    "bill=\"\"\n",
    "for i in range(n):\n",
    "    product=input(\"enter product name=\")\n",
    "    price=int(input(\"enter price=\"))\n",
    "    qty=int(input(\"enter qty=\"))\n",
    "    total=price*qty\n",
    "    data=f\"{product},{price},{qty},{total}\\n\"\n",
    "    bill =bill+data\n",
    "print(bill)"
   ]
  },
  {
   "cell_type": "code",
   "execution_count": 12,
   "id": "7ee9f130",
   "metadata": {},
   "outputs": [],
   "source": [
    "try:\n",
    "    b=open('datas.csv','w')\n",
    "    b.write(\"Product,Price,Quantity,Total\\n\")\n",
    "    b.write(bill)\n",
    "    b.close()\n",
    "except:\n",
    "    print(\"Error occured\")"
   ]
  },
  {
   "cell_type": "code",
   "execution_count": 13,
   "id": "9ba3a2a2",
   "metadata": {},
   "outputs": [
    {
     "name": "stdout",
     "output_type": "stream",
     "text": [
      "Product,Price,Quantity,Total\n",
      "momo,130,2,260\n",
      "Chowmein,130,2,260\n",
      "\n"
     ]
    }
   ],
   "source": [
    "file=open('datas.csv')\n",
    "print(file.read())\n",
    "file.close()"
   ]
  },
  {
   "cell_type": "code",
   "execution_count": 5,
   "id": "55cf012d",
   "metadata": {},
   "outputs": [
    {
     "name": "stdout",
     "output_type": "stream",
     "text": [
      "Product,Price,Quantity,Total\n",
      "momo,130,2,260\n",
      "Chowmein,130,2,260\n",
      "\n"
     ]
    }
   ],
   "source": [
    "file=open('datas.csv')\n",
    "x=file.read()\n",
    "print(x)"
   ]
  },
  {
   "cell_type": "code",
   "execution_count": 6,
   "id": "3b60e2e4",
   "metadata": {},
   "outputs": [
    {
     "name": "stdout",
     "output_type": "stream",
     "text": [
      "Product,Price,Quantity,Total\n",
      "momo,130,2,260\n",
      "Chowmein,130,2,260\n",
      "\n"
     ]
    }
   ],
   "source": [
    "print(x)"
   ]
  },
  {
   "cell_type": "code",
   "execution_count": 7,
   "id": "d4861aa0",
   "metadata": {},
   "outputs": [
    {
     "data": {
      "text/plain": [
       "'Product,Price,Quantity,Total\\nmomo,130,2,260\\nChowmein,130,2,260\\n'"
      ]
     },
     "execution_count": 7,
     "metadata": {},
     "output_type": "execute_result"
    }
   ],
   "source": [
    "x"
   ]
  },
  {
   "cell_type": "code",
   "execution_count": 8,
   "id": "d3729f65",
   "metadata": {},
   "outputs": [
    {
     "data": {
      "text/plain": [
       "['Product,Price,Quantity,Total', 'momo,130,2,260', 'Chowmein,130,2,260', '']"
      ]
     },
     "execution_count": 8,
     "metadata": {},
     "output_type": "execute_result"
    }
   ],
   "source": [
    "x.split('\\n')"
   ]
  },
  {
   "cell_type": "code",
   "execution_count": 14,
   "id": "07d871da",
   "metadata": {},
   "outputs": [
    {
     "name": "stdout",
     "output_type": "stream",
     "text": [
      "['Product,Price,Quantity,Total', 'momo,130,2,260', 'Chowmein,130,2,260']\n"
     ]
    }
   ],
   "source": [
    "data=x.split('\\n')[0:-1]\n",
    "print(data)"
   ]
  },
  {
   "cell_type": "code",
   "execution_count": 17,
   "id": "cd904e4d",
   "metadata": {},
   "outputs": [
    {
     "data": {
      "text/plain": [
       "[['Product', 'Price', 'Quantity', 'Total'],\n",
       " ['momo', '130', '2', '260'],\n",
       " ['Chowmein', '130', '2', '260']]"
      ]
     },
     "execution_count": 17,
     "metadata": {},
     "output_type": "execute_result"
    }
   ],
   "source": [
    "final_data=[]\n",
    "for i in data:\n",
    "    y=i.split(\",\")\n",
    "    final_data.append(y)\n",
    "final_data"
   ]
  },
  {
   "cell_type": "code",
   "execution_count": null,
   "id": "0909a981",
   "metadata": {},
   "outputs": [],
   "source": []
  }
 ],
 "metadata": {
  "kernelspec": {
   "display_name": "Python 3 (ipykernel)",
   "language": "python",
   "name": "python3"
  },
  "language_info": {
   "codemirror_mode": {
    "name": "ipython",
    "version": 3
   },
   "file_extension": ".py",
   "mimetype": "text/x-python",
   "name": "python",
   "nbconvert_exporter": "python",
   "pygments_lexer": "ipython3",
   "version": "3.9.7"
  }
 },
 "nbformat": 4,
 "nbformat_minor": 5
}
