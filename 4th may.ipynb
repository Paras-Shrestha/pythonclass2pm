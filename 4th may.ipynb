{
 "cells": [
  {
   "cell_type": "code",
   "execution_count": 3,
   "id": "242f0e9b",
   "metadata": {},
   "outputs": [
    {
     "name": "stdout",
     "output_type": "stream",
     "text": [
      "enter value of n=2\n",
      "enter product name=pen\n",
      "enter price=20\n",
      "enter product qty=3\n",
      "enter product name=pencil\n",
      "enter price=30\n",
      "enter product qty=2\n",
      "pen 20 3 60\n",
      "pencil 30 2 60\n",
      "\n",
      "120\n"
     ]
    }
   ],
   "source": [
    "grand_total=0\n",
    "n=int(input(\"enter value of n=\"))\n",
    "bill=\"\"\n",
    "for i in range(n):\n",
    "    name=input(\"enter product name=\")\n",
    "    price=int(input(\"enter price=\"))\n",
    "    qty=int(input(\"enter product qty=\"))\n",
    "    total=price*qty\n",
    "    grand_total=grand_total+total\n",
    "    data=f\"{name} {price} {qty} {total}\\n\"\n",
    "    bill=bill+data\n",
    "print(bill)\n",
    "print(grand_total)"
   ]
  },
  {
   "cell_type": "raw",
   "id": "2c7cb609",
   "metadata": {},
   "source": []
  },
  {
   "cell_type": "markdown",
   "id": "1fc447f8",
   "metadata": {},
   "source": [
    "a=\"Ram Shyam Hari Gita Nita Shyam\".lower()\n",
    "search=input(\"enter search=\").lower()\n",
    "if search in a:\n",
    "    print(\"yes\",a.count(search))"
   ]
  },
  {
   "cell_type": "code",
   "execution_count": 7,
   "id": "d581e798",
   "metadata": {},
   "outputs": [
    {
     "name": "stdout",
     "output_type": "stream",
     "text": [
      "enter the marks of physics= 34\n",
      "enter the marks of chemistry=34\n",
      "enter the marks of maths=34\n",
      "enter the marks of nepali=34\n",
      "enter the marks of english34\n"
     ]
    },
    {
     "ename": "NameError",
     "evalue": "name 'Fail' is not defined",
     "output_type": "error",
     "traceback": [
      "\u001b[1;31m---------------------------------------------------------------------------\u001b[0m",
      "\u001b[1;31mNameError\u001b[0m                                 Traceback (most recent call last)",
      "\u001b[1;32m~\\AppData\\Local\\Temp/ipykernel_496/3359797364.py\u001b[0m in \u001b[0;36m<module>\u001b[1;34m\u001b[0m\n\u001b[0;32m     12\u001b[0m     \u001b[0mprint\u001b[0m\u001b[1;33m(\u001b[0m\u001b[1;34m\"Grade C\"\u001b[0m\u001b[1;33m)\u001b[0m\u001b[1;33m\u001b[0m\u001b[1;33m\u001b[0m\u001b[0m\n\u001b[0;32m     13\u001b[0m \u001b[1;32melse\u001b[0m\u001b[1;33m:\u001b[0m\u001b[1;33m\u001b[0m\u001b[1;33m\u001b[0m\u001b[0m\n\u001b[1;32m---> 14\u001b[1;33m     \u001b[0mprint\u001b[0m\u001b[1;33m(\u001b[0m\u001b[0mFail\u001b[0m\u001b[1;33m)\u001b[0m\u001b[1;33m\u001b[0m\u001b[1;33m\u001b[0m\u001b[0m\n\u001b[0m\u001b[0;32m     15\u001b[0m \u001b[1;33m\u001b[0m\u001b[0m\n\u001b[0;32m     16\u001b[0m \u001b[1;33m\u001b[0m\u001b[0m\n",
      "\u001b[1;31mNameError\u001b[0m: name 'Fail' is not defined"
     ]
    }
   ],
   "source": [
    "n=int(\"enter no of students=\")\n",
    "result=\"\"\n",
    "for i in range(n):\n",
    "physics=int(input(\"enter the marks of physics= \"))\n",
    "chemistry=int(input(\"enter the marks of chemistry=\"))\n",
    "maths=int(input(\"enter the marks of maths=\"))\n",
    "nepali=int(input(\"enter the marks of nepali=\"))\n",
    "english=int(input(\"enter the marks of english=\"))\n",
    "total=(physics+chemistry+maths+nepali+english)/5\n",
    "if total>=80:\n",
    "    print(\"Grade A\")\n",
    "elif total>=60:\n",
    "    print(\"Grade B\")\n",
    "elif total >=40:\n",
    "    print(\"Grade C\")\n",
    "else:\n",
    "    print(Fail)\n",
    "result=total+result\n",
    "if result=\"Grade A\":\n",
    "    print(\"rank 1st\")\n",
    "else result=\"Grade B\":\n",
    "\n",
    "    \n",
    "    "
   ]
  },
  {
   "cell_type": "code",
   "execution_count": null,
   "id": "5db27545",
   "metadata": {},
   "outputs": [],
   "source": []
  }
 ],
 "metadata": {
  "kernelspec": {
   "display_name": "Python 3 (ipykernel)",
   "language": "python",
   "name": "python3"
  },
  "language_info": {
   "codemirror_mode": {
    "name": "ipython",
    "version": 3
   },
   "file_extension": ".py",
   "mimetype": "text/x-python",
   "name": "python",
   "nbconvert_exporter": "python",
   "pygments_lexer": "ipython3",
   "version": "3.9.7"
  }
 },
 "nbformat": 4,
 "nbformat_minor": 5
}
