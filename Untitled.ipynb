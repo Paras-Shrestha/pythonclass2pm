{
 "cells": [
  {
   "cell_type": "code",
   "execution_count": 11,
   "id": "015d72d9",
   "metadata": {},
   "outputs": [
    {
     "name": "stdout",
     "output_type": "stream",
     "text": [
      "banana"
     ]
    }
   ],
   "source": [
    "for x in \"banana\":\n",
    "    print(x,end='')\n",
    "    "
   ]
  },
  {
   "cell_type": "code",
   "execution_count": 12,
   "id": "8411eea0",
   "metadata": {},
   "outputs": [
    {
     "name": "stdout",
     "output_type": "stream",
     "text": [
      "0\n",
      "1\n",
      "2\n",
      "3\n",
      "4\n",
      "5\n",
      "Finally finished!\n"
     ]
    }
   ],
   "source": [
    "for x in range(6):\n",
    "  print(x)\n",
    "else:\n",
    "  print(\"Finally finished!\")"
   ]
  },
  {
   "cell_type": "code",
   "execution_count": 1,
   "id": "c33edd72",
   "metadata": {},
   "outputs": [
    {
     "name": "stdout",
     "output_type": "stream",
     "text": [
      "enter value of n=5\n",
      "enter vaule of x=1\n",
      "enter vaule of x=2\n",
      "enter vaule of x=3\n",
      "enter vaule of x=4\n",
      "enter vaule of x=5\n",
      "15\n"
     ]
    }
   ],
   "source": [
    "s=0\n",
    "n=int(input(\"enter value of n=\"))\n",
    "for i in range(n):\n",
    "    x=int(input(\"enter vaule of x=\"))\n",
    "    s=s+x\n",
    "print(s)"
   ]
  },
  {
   "cell_type": "code",
   "execution_count": 6,
   "id": "a1fab5a0",
   "metadata": {},
   "outputs": [
    {
     "name": "stdout",
     "output_type": "stream",
     "text": [
      "enter value of n=4\n",
      "1\n",
      "2\n",
      "6\n",
      "24\n"
     ]
    }
   ],
   "source": [
    "fac=1\n",
    "n=int(input(\"enter value of n=\"))\n",
    "if n==0:\n",
    "    print(fac)\n",
    "elif n>=1:\n",
    "    for i in range(1,n+1):\n",
    "        fac=fac*i\n",
    "        print(fac)\n",
    "else:\n",
    "    print(\"invalid number\")\n",
    "    "
   ]
  },
  {
   "cell_type": "code",
   "execution_count": 16,
   "id": "f3929b48",
   "metadata": {},
   "outputs": [
    {
     "name": "stdout",
     "output_type": "stream",
     "text": [
      "Enter the value of n=10\n",
      "10\n",
      "20\n",
      "30\n",
      "40\n",
      "50\n",
      "60\n",
      "70\n",
      "80\n",
      "90\n",
      "100\n"
     ]
    }
   ],
   "source": [
    "i=1\n",
    "n=int(input(\"Enter the value of n=\"))\n",
    "while i<=10:\n",
    "    print(n*i)\n",
    "    i=i+1"
   ]
  },
  {
   "cell_type": "code",
   "execution_count": 17,
   "id": "51f6f1b4",
   "metadata": {},
   "outputs": [
    {
     "name": "stdout",
     "output_type": "stream",
     "text": [
      "enter the value of n=3\n",
      "Enter the value of x=2\n",
      "Enter the value of x=3\n",
      "Enter the value of x=3\n",
      "8\n"
     ]
    }
   ],
   "source": [
    "i=0\n",
    "s=0\n",
    "n=int(input(\"enter the value of n=\"))\n",
    "while i<n:\n",
    "    x=int(input(\"Enter the value of x=\"))\n",
    "    s=s+x\n",
    "    i=i+1\n",
    "print(s)\n",
    "    "
   ]
  },
  {
   "cell_type": "code",
   "execution_count": 9,
   "id": "5c8bc3a8",
   "metadata": {},
   "outputs": [
    {
     "name": "stdout",
     "output_type": "stream",
     "text": [
      "p\n",
      "y\n",
      "t\n",
      "h\n",
      "o\n",
      "n\n"
     ]
    }
   ],
   "source": [
    "i=0\n",
    "a=\"python\"\n",
    "l=len(a)\n",
    "while i<l:\n",
    "    print(a[i])\n",
    "    i=i+1"
   ]
  },
  {
   "cell_type": "code",
   "execution_count": 6,
   "id": "251faed4",
   "metadata": {},
   "outputs": [
    {
     "name": "stdout",
     "output_type": "stream",
     "text": [
      "a is even\n"
     ]
    }
   ],
   "source": [
    "a=10\n",
    "if a%2==0:\n",
    "    print(\"a is even\")"
   ]
  },
  {
   "cell_type": "code",
   "execution_count": 7,
   "id": "259c81fc",
   "metadata": {},
   "outputs": [
    {
     "name": "stdout",
     "output_type": "stream",
     "text": [
      "['a', 'b', 'c']\n",
      "['a', 'b', 'c']\n",
      "['a', 'b', 'c']\n"
     ]
    }
   ],
   "source": [
    "x=[\"a\",\"b\",\"c\"]\n",
    "for a in x:\n",
    "    print(x)"
   ]
  },
  {
   "cell_type": "code",
   "execution_count": 16,
   "id": "a4568024",
   "metadata": {
    "scrolled": true
   },
   "outputs": [
    {
     "ename": "SyntaxError",
     "evalue": "invalid syntax (Temp/ipykernel_7192/3690343679.py, line 3)",
     "output_type": "error",
     "traceback": [
      "\u001b[1;36m  File \u001b[1;32m\"C:\\Users\\kl\\AppData\\Local\\Temp/ipykernel_7192/3690343679.py\"\u001b[1;36m, line \u001b[1;32m3\u001b[0m\n\u001b[1;33m    print(x\"/t\")\u001b[0m\n\u001b[1;37m           ^\u001b[0m\n\u001b[1;31mSyntaxError\u001b[0m\u001b[1;31m:\u001b[0m invalid syntax\n"
     ]
    }
   ],
   "source": [
    "fruits=['apple','ball','cherry']\n",
    "for x in fruits:\n",
    "    print(x\"/t\")"
   ]
  },
  {
   "cell_type": "code",
   "execution_count": 17,
   "id": "625eb139",
   "metadata": {},
   "outputs": [
    {
     "name": "stdout",
     "output_type": "stream",
     "text": [
      "hello worldhello worldhello world\n"
     ]
    }
   ],
   "source": [
    "a=\"hello world\"\n",
    "print(a*3)"
   ]
  },
  {
   "cell_type": "code",
   "execution_count": 21,
   "id": "4578bb14",
   "metadata": {},
   "outputs": [
    {
     "name": "stdout",
     "output_type": "stream",
     "text": [
      "hello \n"
     ]
    }
   ],
   "source": [
    "a=\"hello world\"\n",
    "print(a[:6])"
   ]
  },
  {
   "cell_type": "code",
   "execution_count": 30,
   "id": "2dcc36e8",
   "metadata": {},
   "outputs": [
    {
     "name": "stdout",
     "output_type": "stream",
     "text": [
      "hello\n",
      " world\n"
     ]
    }
   ],
   "source": [
    "a = \"hello world\"\n",
    "x = a[:5]\n",
    "y = a[5:]\n",
    "print (x)\n",
    "print (y)"
   ]
  },
  {
   "cell_type": "code",
   "execution_count": 34,
   "id": "efee69c1",
   "metadata": {},
   "outputs": [
    {
     "data": {
      "text/plain": [
       "'drwolh'"
      ]
     },
     "execution_count": 34,
     "metadata": {},
     "output_type": "execute_result"
    }
   ],
   "source": [
    "a=\"hello world\"\n",
    "a[::-]"
   ]
  },
  {
   "cell_type": "code",
   "execution_count": 37,
   "id": "cf5b4a1e",
   "metadata": {},
   "outputs": [
    {
     "name": "stdout",
     "output_type": "stream",
     "text": [
      "Enter search = ram\n"
     ]
    }
   ],
   "source": [
    "a = \"Ram Shyam Hari Gita Nita Shyam\"\n",
    "search = input(\"Enter search = \")\n",
    "\n",
    "if search in a:\n",
    "    print(\"Yes\",a.count(search))\n"
   ]
  },
  {
   "cell_type": "code",
   "execution_count": 1,
   "id": "794a0da2",
   "metadata": {},
   "outputs": [
    {
     "name": "stdout",
     "output_type": "stream",
     "text": [
      "enter n=0\n",
      "1\n"
     ]
    }
   ],
   "source": [
    "fac=1\n",
    "n=int(input(\"enter n=\"))\n",
    "if n>=0:\n",
    "    for i in range (1,n+1):\n",
    "        fac=fac*i\n",
    "else:\n",
    "    print(\"invalid operator\")\n",
    "print(fac)\n",
    "        "
   ]
  },
  {
   "cell_type": "code",
   "execution_count": 2,
   "id": "f378d718",
   "metadata": {},
   "outputs": [
    {
     "name": "stdout",
     "output_type": "stream",
     "text": [
      "enter the value of n=3\n",
      "6\n"
     ]
    }
   ],
   "source": [
    "fac=1\n",
    "n=int(input(\"enter the value of n=\"))\n",
    "if n>=1:\n",
    "    for i in range(1,n+1):\n",
    "        fac=fac*i\n",
    "else:\n",
    "    print(\"invalid operator\")\n",
    "print(fac)"
   ]
  },
  {
   "cell_type": "code",
   "execution_count": 3,
   "id": "18033587",
   "metadata": {},
   "outputs": [
    {
     "name": "stdout",
     "output_type": "stream",
     "text": [
      "enter the value of n=2\n",
      "enter the phone number=9848425218\n",
      "enter the name of the person=hari\n",
      "enter the phone number=9844157007\n",
      "enter the name of the person=ram\n"
     ]
    },
    {
     "data": {
      "text/plain": [
       "{9848425218: 'hari', 9844157007: 'ram'}"
      ]
     },
     "execution_count": 3,
     "metadata": {},
     "output_type": "execute_result"
    }
   ],
   "source": [
    "d={}\n",
    "n=int(input(\"enter the value of n=\"))\n",
    "for i in range(n):\n",
    "    number=int(input(\"enter the phone number=\"))\n",
    "    name=input(\"enter the name of the person=\")\n",
    "    d[number]=name\n",
    "    \n",
    "d\n",
    "\n"
   ]
  },
  {
   "cell_type": "code",
   "execution_count": 1,
   "id": "c4e5a48d",
   "metadata": {},
   "outputs": [
    {
     "name": "stdout",
     "output_type": "stream",
     "text": [
      "the min value of a= 2\n",
      "the max value of a= 123\n"
     ]
    },
    {
     "data": {
      "text/plain": [
       "[123, 2, 23, 34]"
      ]
     },
     "execution_count": 1,
     "metadata": {},
     "output_type": "execute_result"
    }
   ],
   "source": [
    "a=[123,2,23,34]\n",
    "print(\"the min value of a=\",min(a))\n",
    "print(\"the max value of a=\",max(a))\n",
    "a"
   ]
  },
  {
   "cell_type": "code",
   "execution_count": 2,
   "id": "801a6bcc",
   "metadata": {},
   "outputs": [
    {
     "data": {
      "text/plain": [
       "[123, 2, 23, 34]"
      ]
     },
     "execution_count": 2,
     "metadata": {},
     "output_type": "execute_result"
    }
   ],
   "source": [
    "a"
   ]
  },
  {
   "cell_type": "code",
   "execution_count": 3,
   "id": "53058b92",
   "metadata": {},
   "outputs": [
    {
     "name": "stdout",
     "output_type": "stream",
     "text": [
      "min= 123\n",
      "max= 34\n"
     ]
    }
   ],
   "source": [
    "print(\"min=\",a[0])\n",
    "print(\"max=\",a[-1])"
   ]
  },
  {
   "cell_type": "code",
   "execution_count": 5,
   "id": "b6f3ecce",
   "metadata": {},
   "outputs": [
    {
     "name": "stdout",
     "output_type": "stream",
     "text": [
      "[1, 2, 3]\n"
     ]
    }
   ],
   "source": [
    "a=[[1,2,3]\n",
    "  ,[2,3,4],\n",
    "   [4,5,6]]\n",
    "print(a[0])"
   ]
  },
  {
   "cell_type": "code",
   "execution_count": 9,
   "id": "628a3e08",
   "metadata": {},
   "outputs": [
    {
     "name": "stdout",
     "output_type": "stream",
     "text": [
      "enter name=Ram\n"
     ]
    },
    {
     "data": {
      "text/plain": [
       "'ram'"
      ]
     },
     "execution_count": 9,
     "metadata": {},
     "output_type": "execute_result"
    }
   ],
   "source": [
    "name=input(\"enter name=\")\n",
    "name.lower()\n"
   ]
  },
  {
   "cell_type": "code",
   "execution_count": 13,
   "id": "cb712bee",
   "metadata": {},
   "outputs": [],
   "source": [
    "a=[['Ram',23,'Kathmandu'],\n",
    "   ['Shyam',25,\"Pokhara\"],\n",
    "   ['Hari',34,'Bharatpur']]\n"
   ]
  },
  {
   "cell_type": "code",
   "execution_count": 28,
   "id": "788a73e4",
   "metadata": {},
   "outputs": [
    {
     "name": "stdout",
     "output_type": "stream",
     "text": [
      "enter name=ram\n",
      "['Ram', 23, 'Kathmandu']\n"
     ]
    }
   ],
   "source": [
    "name=input(\"enter name=\")\n",
    "for i in a:\n",
    "    if name in i[0].lower():\n",
    "        print(i)"
   ]
  },
  {
   "cell_type": "code",
   "execution_count": 29,
   "id": "f4d5eba0",
   "metadata": {},
   "outputs": [
    {
     "data": {
      "text/plain": [
       "[['Ram', 23, 'Kathmandu'], ['Shyam', 25, 'Pokhara'], ['Hari', 34, 'Bharatpur']]"
      ]
     },
     "execution_count": 29,
     "metadata": {},
     "output_type": "execute_result"
    }
   ],
   "source": [
    "a"
   ]
  },
  {
   "cell_type": "code",
   "execution_count": 49,
   "id": "24d4b327",
   "metadata": {},
   "outputs": [
    {
     "name": "stdout",
     "output_type": "stream",
     "text": [
      "enter the no of row=2\n",
      "enter the digit of row first column=1\n",
      "enter the digit of row second column=1\n",
      "enter the digit of row first column=2\n",
      "enter the digit of row second column=3\n",
      "[1, 1]\n",
      "[2, 3]\n"
     ]
    }
   ],
   "source": [
    "a=[]\n",
    "n=int(input(\"enter the no of row=\"))\n",
    "for i in range(n):\n",
    "    r=int(input(\"enter the digit of row first column=\"))\n",
    "    c=int(input(\"enter the digit of row second column=\"))\n",
    "    b=[r,c]\n",
    "    a.append(b)\n",
    "print(a[0])\n",
    "print(a[1])\n"
   ]
  },
  {
   "cell_type": "markdown",
   "id": "5c299af0",
   "metadata": {},
   "source": [
    " a=0\n",
    " while a>=5"
   ]
  },
  {
   "cell_type": "code",
   "execution_count": 1,
   "id": "41400648",
   "metadata": {},
   "outputs": [
    {
     "name": "stdout",
     "output_type": "stream",
     "text": [
      "0 Hello world\n",
      "1 Hello world\n",
      "2 Hello world\n",
      "3 Hello world\n",
      "4 Hello world\n",
      "5 Hello world\n"
     ]
    }
   ],
   "source": [
    "a=0\n",
    "while a<=5:\n",
    "    print(a,\"Hello world\")\n",
    "    a=a+1\n",
    "    "
   ]
  },
  {
   "cell_type": "code",
   "execution_count": 5,
   "id": "084e139d",
   "metadata": {},
   "outputs": [
    {
     "name": "stdout",
     "output_type": "stream",
     "text": [
      "5 Hello World\n",
      "4 Hello World\n",
      "3 Hello World\n",
      "2 Hello World\n",
      "1 Hello World\n",
      "0 Hello World\n"
     ]
    }
   ],
   "source": [
    "a=5\n",
    "while a>=0:\n",
    "    print(a,\"Hello World\")\n",
    "    a=a-1"
   ]
  },
  {
   "cell_type": "code",
   "execution_count": 1,
   "id": "dccc810e",
   "metadata": {},
   "outputs": [
    {
     "name": "stdout",
     "output_type": "stream",
     "text": [
      "enter n=2\n",
      "enter x=1\n",
      "enter x=2\n",
      "3\n"
     ]
    }
   ],
   "source": [
    "i=0\n",
    "s=0\n",
    "n=int(input(\"enter n=\"))\n",
    "while i<n:\n",
    "    x=int(input(\"enter x=\"))\n",
    "    s=s+x\n",
    "    i=i+1\n",
    "print(s)\n",
    "    "
   ]
  },
  {
   "cell_type": "code",
   "execution_count": 4,
   "id": "9aa74017",
   "metadata": {},
   "outputs": [
    {
     "name": "stdout",
     "output_type": "stream",
     "text": [
      "enter l=1\n",
      "enter b=2\n",
      "3\n"
     ]
    }
   ],
   "source": [
    "def area():\n",
    "    l=int(input(\"enter l=\"))\n",
    "    b=int(input(\"enter b=\"))\n",
    "    a=l*b\n",
    "    return a\n",
    "h=3\n",
    "v=area()*h\n",
    "print(h)"
   ]
  },
  {
   "cell_type": "code",
   "execution_count": 13,
   "id": "5f10fa3e",
   "metadata": {},
   "outputs": [
    {
     "name": "stdout",
     "output_type": "stream",
     "text": [
      "Enter l = 4\n",
      "Enter b = 5\n",
      "40\n"
     ]
    }
   ],
   "source": [
    "def area():\n",
    "    l = int(input(\"Enter l = \"))              #local variable\n",
    "    b = int(input(\"Enter b = \"))              #Local variable\n",
    "    a = l*b\n",
    "    return a\n",
    "ar=area()\n",
    "h = 2\n",
    "v = ar*h\n",
    "print(v)"
   ]
  },
  {
   "cell_type": "code",
   "execution_count": 19,
   "id": "970f8701",
   "metadata": {},
   "outputs": [
    {
     "name": "stdout",
     "output_type": "stream",
     "text": [
      "Enter l = 3\n",
      "Enter b = 4\n",
      "14\n"
     ]
    }
   ],
   "source": [
    "def area():\n",
    "    l = int(input(\"Enter l = \"))              #local variable\n",
    "    b = int(input(\"Enter b = \"))              #Local variable\n",
    "    a = l*b\n",
    "    return a\n",
    "    \n",
    "ar = area()\n",
    "h = 2\n",
    "v = ar*h*2\n",
    "v = ar*h*3\n",
    "v=ar+h\n",
    "print(v)"
   ]
  },
  {
   "cell_type": "code",
   "execution_count": 21,
   "id": "aa5db3bb",
   "metadata": {},
   "outputs": [
    {
     "name": "stdout",
     "output_type": "stream",
     "text": [
      "80\n"
     ]
    }
   ],
   "source": [
    "def area():\n",
    "    l = 10\n",
    "    b = 4\n",
    "    a = l*b\n",
    "    return a\n",
    "\n",
    "\n",
    "def volume():\n",
    "    h = 2\n",
    "    v = area()*h\n",
    "    return v\n",
    "\n",
    "print(volume())"
   ]
  },
  {
   "cell_type": "code",
   "execution_count": 23,
   "id": "46f82daa",
   "metadata": {},
   "outputs": [
    {
     "name": "stdout",
     "output_type": "stream",
     "text": [
      "enter l=4\n",
      "enter b=5\n",
      "40\n"
     ]
    }
   ],
   "source": [
    "def area():\n",
    "    l=int(input(\"enter l=\"))\n",
    "    b=int(input(\"enter b=\"))\n",
    "    a=l*b\n",
    "    return a\n",
    "h=2\n",
    "volume=area()*h\n",
    "print(volume)"
   ]
  },
  {
   "cell_type": "code",
   "execution_count": 35,
   "id": "348de421",
   "metadata": {},
   "outputs": [
    {
     "name": "stdout",
     "output_type": "stream",
     "text": [
      "cloud\n",
      "meet\n",
      "mail\n"
     ]
    }
   ],
   "source": [
    "def google(a=\"cloud\"):\n",
    "    print(a)\n",
    "    \n",
    "google()\n",
    "google(\"meet\")\n",
    "google(\"mail\")"
   ]
  },
  {
   "cell_type": "code",
   "execution_count": 40,
   "id": "eeb9443a",
   "metadata": {},
   "outputs": [
    {
     "data": {
      "text/plain": [
       "30"
      ]
     },
     "execution_count": 40,
     "metadata": {},
     "output_type": "execute_result"
    }
   ],
   "source": [
    "def area():\n",
    "    l=2\n",
    "    b=3\n",
    "    a=l*b\n",
    "    return a\n",
    "\n",
    "def volume():\n",
    "    h=5\n",
    "    v=area()*h\n",
    "    return v\n",
    "\n",
    "volume()"
   ]
  },
  {
   "cell_type": "code",
   "execution_count": 45,
   "id": "c22b0ba4",
   "metadata": {},
   "outputs": [
    {
     "name": "stdout",
     "output_type": "stream",
     "text": [
      "enter p=25000\n",
      "enter t=3.5\n",
      "enter r=10.5\n",
      "9187.5\n"
     ]
    }
   ],
   "source": [
    "def call():\n",
    "    p=int(input(\"enter p=\"))\n",
    "    t=float(input(\"enter t=\"))\n",
    "    r=float(input(\"enter r=\"))\n",
    "    i=p*t*r/100\n",
    "    print(i)\n",
    "    return\n",
    "    x=input(\"enter y for more cal=\")\n",
    "    if x=='y':\n",
    "        call()\n",
    "        \n",
    "call()"
   ]
  },
  {
   "cell_type": "code",
   "execution_count": null,
   "id": "c2e559d3",
   "metadata": {},
   "outputs": [],
   "source": []
  }
 ],
 "metadata": {
  "kernelspec": {
   "display_name": "Python 3 (ipykernel)",
   "language": "python",
   "name": "python3"
  },
  "language_info": {
   "codemirror_mode": {
    "name": "ipython",
    "version": 3
   },
   "file_extension": ".py",
   "mimetype": "text/x-python",
   "name": "python",
   "nbconvert_exporter": "python",
   "pygments_lexer": "ipython3",
   "version": "3.9.7"
  }
 },
 "nbformat": 4,
 "nbformat_minor": 5
}
