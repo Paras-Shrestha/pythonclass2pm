{
 "cells": [
  {
   "cell_type": "code",
   "execution_count": null,
   "id": "7c2f59e1",
   "metadata": {},
   "outputs": [],
   "source": [
    "a=[]\n",
    "n=int(input(\"enter n=\"))\n",
    "for i in range(n):\n",
    "    x=input(\"enter x=\")\n",
    "    a.append(x)\n",
    "print(a)"
   ]
  },
  {
   "cell_type": "code",
   "execution_count": null,
   "id": "f21f3023",
   "metadata": {},
   "outputs": [],
   "source": [
    "a=[]\n",
    "n=int(input(\"enter n=\"))\n",
    "for i in range(n):\n",
    "    x=int(input(\"enter x=\"))\n",
    "    a.append(x)\n",
    "print(a)"
   ]
  },
  {
   "cell_type": "code",
   "execution_count": null,
   "id": "ebad72a5",
   "metadata": {},
   "outputs": [],
   "source": [
    "max(a)"
   ]
  },
  {
   "cell_type": "code",
   "execution_count": null,
   "id": "7672f0c8",
   "metadata": {},
   "outputs": [],
   "source": [
    "min(a)"
   ]
  },
  {
   "cell_type": "code",
   "execution_count": null,
   "id": "3d7755ea",
   "metadata": {},
   "outputs": [],
   "source": [
    "sum(a)"
   ]
  },
  {
   "cell_type": "code",
   "execution_count": null,
   "id": "148915e6",
   "metadata": {},
   "outputs": [],
   "source": [
    "a.sort()\n",
    "print(a)"
   ]
  },
  {
   "cell_type": "code",
   "execution_count": null,
   "id": "218eb116",
   "metadata": {},
   "outputs": [],
   "source": [
    "a.reverse()\n",
    "print(a)"
   ]
  },
  {
   "cell_type": "code",
   "execution_count": null,
   "id": "d5cd82a3",
   "metadata": {},
   "outputs": [],
   "source": [
    "a=[]\n",
    "n=int(input(\"enter n=\"))\n",
    "for i in range(n):\n",
    "    x=input(\"enter x=\")\n",
    "    a.append(x)\n",
    "print(a)"
   ]
  },
  {
   "cell_type": "code",
   "execution_count": null,
   "id": "0f12213a",
   "metadata": {},
   "outputs": [],
   "source": [
    "a.sort()\n",
    "print(a)"
   ]
  },
  {
   "cell_type": "code",
   "execution_count": null,
   "id": "a001ef9a",
   "metadata": {},
   "outputs": [],
   "source": [
    "b=[]\n",
    "a=['ant','yak','leopard']\n",
    "for i in a:\n",
    "    if i!='ant':\n",
    "        b.append(i)\n",
    "b"
   ]
  },
  {
   "cell_type": "code",
   "execution_count": null,
   "id": "be18ea1c",
   "metadata": {},
   "outputs": [],
   "source": [
    "a=['ant','banana','zebra','xray']\n",
    "for i in range(len(a)):\n",
    "    if a[i]=='ant':\n",
    "        print(i)"
   ]
  },
  {
   "cell_type": "code",
   "execution_count": null,
   "id": "629bf5a9",
   "metadata": {},
   "outputs": [],
   "source": [
    "a.count(\"ant\")"
   ]
  },
  {
   "cell_type": "code",
   "execution_count": null,
   "id": "dde1872e",
   "metadata": {},
   "outputs": [],
   "source": [
    "a=(\"ram shyam hari gita nita shyam\")\n",
    "search=input(\"enter search=\")\n",
    "if search in a:\n",
    "    print(\"yes\",a.count(search))"
   ]
  },
  {
   "cell_type": "code",
   "execution_count": null,
   "id": "513b62b6",
   "metadata": {},
   "outputs": [],
   "source": [
    "False and True"
   ]
  },
  {
   "cell_type": "code",
   "execution_count": null,
   "id": "d7706e47",
   "metadata": {},
   "outputs": [],
   "source": [
    "False or False\n"
   ]
  },
  {
   "cell_type": "code",
   "execution_count": null,
   "id": "0e0cfac1",
   "metadata": {},
   "outputs": [],
   "source": [
    "a=[]\n",
    "n=input(\"enter no of rows=\")\n",
    "for i in range(n):\n",
    "    rows=('enter no')\n"
   ]
  },
  {
   "cell_type": "code",
   "execution_count": null,
   "id": "d8d9db4d",
   "metadata": {},
   "outputs": [],
   "source": [
    "a=[]\n",
    "for x in range(a):\n",
    "    i =input(\"enter the numbers in row=\")\n",
    "    j=input(\"enter the number in column=\")\n",
    "    a=[\n",
    "a\n",
    "\n"
   ]
  },
  {
   "cell_type": "code",
   "execution_count": null,
   "id": "631d846b",
   "metadata": {},
   "outputs": [],
   "source": [
    "a=set()\n",
    "a={'apple','ball','cat','hyna','seal','hyna','panther'}\n",
    "a"
   ]
  },
  {
   "cell_type": "code",
   "execution_count": null,
   "id": "b670db14",
   "metadata": {},
   "outputs": [],
   "source": [
    "print(a)"
   ]
  },
  {
   "cell_type": "code",
   "execution_count": null,
   "id": "87519929",
   "metadata": {},
   "outputs": [],
   "source": [
    "s=[]\n",
    "n=int(input(\"enter value of n=\"))\n",
    "for i in  range(n):\n",
    "    physics=int(input(\"enter marks of physics=\"))\n",
    "    chemistry=int(input(\"enter marks of chemistry=\"))\n",
    "    math=int(input(\"enter marks of math=\"))\n",
    "    english=int(input(\"enter the marks  of english=\"))\n",
    "    nepali=int(input(\"enter the marks of nepali=\"))\n",
    "    result=(physics+chemistry+math+english+nepali)/5\n",
    "    print(result)\n",
    "    "
   ]
  },
  {
   "cell_type": "code",
   "execution_count": 1,
   "id": "eb36daf9",
   "metadata": {},
   "outputs": [],
   "source": [
    "try:\n",
    "    b=open('datass.csv','x')\n",
    "    b.close()\n",
    "except:\n",
    "    pass\n",
    "        "
   ]
  },
  {
   "cell_type": "code",
   "execution_count": 1,
   "id": "2394e41a",
   "metadata": {},
   "outputs": [
    {
     "data": {
      "text/html": [
       "<div>\n",
       "<style scoped>\n",
       "    .dataframe tbody tr th:only-of-type {\n",
       "        vertical-align: middle;\n",
       "    }\n",
       "\n",
       "    .dataframe tbody tr th {\n",
       "        vertical-align: top;\n",
       "    }\n",
       "\n",
       "    .dataframe thead th {\n",
       "        text-align: right;\n",
       "    }\n",
       "</style>\n",
       "<table border=\"1\" class=\"dataframe\">\n",
       "  <thead>\n",
       "    <tr style=\"text-align: right;\">\n",
       "      <th></th>\n",
       "      <th>sn</th>\n",
       "      <th>Name</th>\n",
       "      <th>Age</th>\n",
       "      <th>Adress</th>\n",
       "      <th>phone</th>\n",
       "    </tr>\n",
       "  </thead>\n",
       "  <tbody>\n",
       "    <tr>\n",
       "      <th>1</th>\n",
       "      <td>2</td>\n",
       "      <td>shyam</td>\n",
       "      <td>56</td>\n",
       "      <td>Bhaktapur</td>\n",
       "      <td>9808667654</td>\n",
       "    </tr>\n",
       "    <tr>\n",
       "      <th>2</th>\n",
       "      <td>3</td>\n",
       "      <td>Hari</td>\n",
       "      <td>46</td>\n",
       "      <td>Lalitpur</td>\n",
       "      <td>9804643873</td>\n",
       "    </tr>\n",
       "    <tr>\n",
       "      <th>3</th>\n",
       "      <td>4</td>\n",
       "      <td>Nabin</td>\n",
       "      <td>67</td>\n",
       "      <td>Tokha</td>\n",
       "      <td>9844157007</td>\n",
       "    </tr>\n",
       "  </tbody>\n",
       "</table>\n",
       "</div>"
      ],
      "text/plain": [
       "   sn   Name  Age     Adress       phone\n",
       "1   2  shyam   56  Bhaktapur  9808667654\n",
       "2   3   Hari   46   Lalitpur  9804643873\n",
       "3   4  Nabin   67      Tokha  9844157007"
      ]
     },
     "execution_count": 1,
     "metadata": {},
     "output_type": "execute_result"
    }
   ],
   "source": [
    "import pandas as pd\n",
    "df=pd.read_csv('datass.csv')\n",
    "#df.head(3)\n",
    "df.tail(3)"
   ]
  },
  {
   "cell_type": "code",
   "execution_count": 4,
   "id": "cdd90a76",
   "metadata": {},
   "outputs": [],
   "source": [
    "try:\n",
    "    import pandas as pd\n",
    "    df=pd.read_csv('datass.csv')\n",
    "    df.head(3)\n",
    "except:\n",
    "      print(\"error occured\")"
   ]
  },
  {
   "cell_type": "code",
   "execution_count": 4,
   "id": "06fa3966",
   "metadata": {},
   "outputs": [
    {
     "name": "stdout",
     "output_type": "stream",
     "text": [
      "Hello world\n"
     ]
    }
   ],
   "source": [
    "print(\"Hello world\")"
   ]
  },
  {
   "cell_type": "code",
   "execution_count": null,
   "id": "834cd85d",
   "metadata": {},
   "outputs": [],
   "source": []
  }
 ],
 "metadata": {
  "kernelspec": {
   "display_name": "Python 3 (ipykernel)",
   "language": "python",
   "name": "python3"
  },
  "language_info": {
   "codemirror_mode": {
    "name": "ipython",
    "version": 3
   },
   "file_extension": ".py",
   "mimetype": "text/x-python",
   "name": "python",
   "nbconvert_exporter": "python",
   "pygments_lexer": "ipython3",
   "version": "3.9.7"
  }
 },
 "nbformat": 4,
 "nbformat_minor": 5
}
