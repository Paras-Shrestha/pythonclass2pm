{
 "cells": [
  {
   "cell_type": "code",
   "execution_count": 5,
   "id": "615491b1",
   "metadata": {},
   "outputs": [
    {
     "name": "stdout",
     "output_type": "stream",
     "text": [
      "enter value of n=3\n",
      "enter the poduct nametoffee\n",
      "enter price= 30\n",
      "enter quantity=20\n",
      "enter the poduct namenoodles\n",
      "enter price= 30\n",
      "enter quantity=4\n",
      "enter the poduct namecoffee\n",
      "enter price= 50\n",
      "enter quantity=2\n",
      "[['name', 'price', 'quantity', 'total'], ['toffee', 30, 20, 600], ['noodles', 30, 4, 120], ['coffee', 50, 2, 100]]\n"
     ]
    }
   ],
   "source": [
    "bill=[['name','price','quantity',\"total\"]]\n",
    "n=int(input(\"enter value of n=\"))\n",
    "for i in range(n):\n",
    "    product=input(\"enter the poduct name\")\n",
    "    price=int(input(\"enter price= \"))\n",
    "    quantity=int(input(\"enter quantity=\"))\n",
    "    total=price*quantity\n",
    "    data=[product,price,quantity,total]\n",
    "    bill.append(data)\n",
    "    \n",
    "print(bill)"
   ]
  },
  {
   "cell_type": "code",
   "execution_count": 6,
   "id": "30258aab",
   "metadata": {},
   "outputs": [],
   "source": [
    "# static data to be saved\n",
    "# light weight than other\n"
   ]
  },
  {
   "cell_type": "code",
   "execution_count": 7,
   "id": "5a2b184e",
   "metadata": {},
   "outputs": [
    {
     "name": "stdout",
     "output_type": "stream",
     "text": [
      "<class 'tuple'>\n"
     ]
    }
   ],
   "source": [
    "c=()\n",
    "print(type(c))"
   ]
  },
  {
   "cell_type": "code",
   "execution_count": 11,
   "id": "60102671",
   "metadata": {},
   "outputs": [
    {
     "name": "stdout",
     "output_type": "stream",
     "text": [
      "('apple', 'ball')\n"
     ]
    }
   ],
   "source": [
    "a=()\n",
    "b=(\"apple\",)\n",
    "c=(\"ball\",)\n",
    "d=a+b+c\n",
    "print (d)"
   ]
  },
  {
   "cell_type": "code",
   "execution_count": 19,
   "id": "abafa925",
   "metadata": {},
   "outputs": [
    {
     "data": {
      "text/plain": [
       "('ball',)"
      ]
     },
     "execution_count": 19,
     "metadata": {},
     "output_type": "execute_result"
    }
   ],
   "source": [
    "a=('apple', 'ball')\n",
    "b=list(a)\n",
    "del b[0]\n",
    "a=tuple(b)\n",
    "a\n"
   ]
  },
  {
   "cell_type": "code",
   "execution_count": 20,
   "id": "22d06ec8",
   "metadata": {},
   "outputs": [],
   "source": [
    "# a=('apple', 'ball')\n",
    "# b=list(a)\n",
    "# del b[0]\n",
    "# a=tuple(b)\n",
    "# a\n",
    "#type casting\n"
   ]
  },
  {
   "cell_type": "code",
   "execution_count": 21,
   "id": "b9e2f77d",
   "metadata": {},
   "outputs": [
    {
     "ename": "NameError",
     "evalue": "name 'inuput' is not defined",
     "output_type": "error",
     "traceback": [
      "\u001b[1;31m---------------------------------------------------------------------------\u001b[0m",
      "\u001b[1;31mNameError\u001b[0m                                 Traceback (most recent call last)",
      "\u001b[1;32m~\\AppData\\Local\\Temp/ipykernel_5972/3128708617.py\u001b[0m in \u001b[0;36m<module>\u001b[1;34m\u001b[0m\n\u001b[0;32m      1\u001b[0m \u001b[0ma\u001b[0m\u001b[1;33m=\u001b[0m\u001b[1;33m(\u001b[0m\u001b[1;33m)\u001b[0m\u001b[1;33m\u001b[0m\u001b[1;33m\u001b[0m\u001b[0m\n\u001b[1;32m----> 2\u001b[1;33m \u001b[0mn\u001b[0m\u001b[1;33m=\u001b[0m \u001b[0mint\u001b[0m\u001b[1;33m(\u001b[0m\u001b[0minuput\u001b[0m\u001b[1;33m(\u001b[0m\u001b[1;34m\"enter \"\u001b[0m\u001b[1;33m)\u001b[0m\u001b[1;33m)\u001b[0m\u001b[1;33m\u001b[0m\u001b[1;33m\u001b[0m\u001b[0m\n\u001b[0m",
      "\u001b[1;31mNameError\u001b[0m: name 'inuput' is not defined"
     ]
    }
   ],
   "source": [
    "a=()\n",
    "n= int(inuput(\"enter \"))"
   ]
  },
  {
   "cell_type": "code",
   "execution_count": null,
   "id": "d84fb4fc",
   "metadata": {},
   "outputs": [],
   "source": [
    "a=((1,2,3),(2,3,4),(4,5,6)"
   ]
  }
 ],
 "metadata": {
  "kernelspec": {
   "display_name": "Python 3 (ipykernel)",
   "language": "python",
   "name": "python3"
  },
  "language_info": {
   "codemirror_mode": {
    "name": "ipython",
    "version": 3
   },
   "file_extension": ".py",
   "mimetype": "text/x-python",
   "name": "python",
   "nbconvert_exporter": "python",
   "pygments_lexer": "ipython3",
   "version": "3.9.7"
  }
 },
 "nbformat": 4,
 "nbformat_minor": 5
}
