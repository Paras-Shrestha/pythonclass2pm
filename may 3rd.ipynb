{
 "cells": [
  {
   "cell_type": "code",
   "execution_count": 1,
   "id": "bdef009a",
   "metadata": {},
   "outputs": [
    {
     "name": "stdout",
     "output_type": "stream",
     "text": [
      "h\n"
     ]
    }
   ],
   "source": [
    "#string slcing\n",
    "a=\"hello world\"\n",
    "print(a[0])"
   ]
  },
  {
   "cell_type": "code",
   "execution_count": 2,
   "id": "8df35a77",
   "metadata": {},
   "outputs": [
    {
     "name": "stdout",
     "output_type": "stream",
     "text": [
      "d\n"
     ]
    }
   ],
   "source": [
    "a=\"hello world\"\n",
    "print(a[-1])"
   ]
  },
  {
   "cell_type": "code",
   "execution_count": 11,
   "id": "b0d90036",
   "metadata": {},
   "outputs": [
    {
     "data": {
      "text/plain": [
       "'dlrow olleh'"
      ]
     },
     "execution_count": 11,
     "metadata": {},
     "output_type": "execute_result"
    }
   ],
   "source": [
    "a=\"hello world\"\n",
    "a[-1::-1]"
   ]
  },
  {
   "cell_type": "code",
   "execution_count": 17,
   "id": "b9570ad9",
   "metadata": {},
   "outputs": [
    {
     "name": "stdout",
     "output_type": "stream",
     "text": [
      "Enter name=hh\n",
      "Enter age=23\n",
      "Enter add=thapathaaili\n",
      "Hello world my name is hh.I am fromthapathaaili.I am23.\n"
     ]
    }
   ],
   "source": [
    "name=input(\"Enter name=\")\n",
    "age=input(\"Enter age=\")\n",
    "add=input(\"Enter add=\")\n",
    "\n",
    "info=f\"Hello world my name is {name}.I am from{add}.I am{age}.\"\n",
    "print (info)"
   ]
  },
  {
   "cell_type": "code",
   "execution_count": 18,
   "id": "7ab40b10",
   "metadata": {},
   "outputs": [
    {
     "name": "stdout",
     "output_type": "stream",
     "text": [
      "ram shyam hari gita  nita \n"
     ]
    }
   ],
   "source": [
    "a=\"Ram Shyam Hari Gita  Nita \"\n",
    "print(a.lower())\n"
   ]
  },
  {
   "cell_type": "code",
   "execution_count": 1,
   "id": "4d884485",
   "metadata": {},
   "outputs": [],
   "source": [
    "# WAP to develop a billing system.\n",
    "# name\n",
    "# price\n",
    "# quantity\n",
    "# total\n",
    "# Grand total"
   ]
  },
  {
   "cell_type": "code",
   "execution_count": 5,
   "id": "8c93c7ea",
   "metadata": {},
   "outputs": [
    {
     "ename": "SyntaxError",
     "evalue": "invalid syntax (Temp/ipykernel_6272/562215141.py, line 5)",
     "output_type": "error",
     "traceback": [
      "\u001b[1;36m  File \u001b[1;32m\"C:\\Users\\kl\\AppData\\Local\\Temp/ipykernel_6272/562215141.py\"\u001b[1;36m, line \u001b[1;32m5\u001b[0m\n\u001b[1;33m    elif:\u001b[0m\n\u001b[1;37m    ^\u001b[0m\n\u001b[1;31mSyntaxError\u001b[0m\u001b[1;31m:\u001b[0m invalid syntax\n"
     ]
    }
   ],
   "source": [
    "n=int(input(\"enter he value of n=\"))\n",
    "\n",
    "name=input(\"enter customer name=\")\n",
    "p.name=input(\"enter product name=\")\n",
    "qty=int(input(\"enter qty=\"))\n",
    "p.name=[\"cold drink,milk,chips,biscuit\"]\n",
    "elif:\n",
    "    cold drink=75:\n",
    "    milk pkt=100:\n",
    "    chips=35:\n",
    "    biscuit=50:\n",
    "for a in p.name:\n",
    "    print(a)\n",
    "\n",
    "\n"
   ]
  },
  {
   "cell_type": "code",
   "execution_count": 1,
   "id": "ef90d7df",
   "metadata": {},
   "outputs": [
    {
     "name": "stdout",
     "output_type": "stream",
     "text": [
      "1\n"
     ]
    }
   ],
   "source": [
    "n=int(input(\"enter the value of n=\"))\n"
   ]
  },
  {
   "cell_type": "code",
   "execution_count": 2,
   "id": "bdf683db",
   "metadata": {},
   "outputs": [
    {
     "name": "stdout",
     "output_type": "stream",
     "text": [
      "Ram shyam  Gita Nita shyam\n"
     ]
    }
   ],
   "source": [
    "a=\"Ram shyam Hari Gita Nita shyam\"\n",
    "b=a[0:10]\n",
    "c=a[14:]\n",
    "print (b+c)"
   ]
  },
  {
   "cell_type": "code",
   "execution_count": 3,
   "id": "20580be7",
   "metadata": {},
   "outputs": [
    {
     "data": {
      "text/plain": [
       "'Ram Shyam Hari Gita'"
      ]
     },
     "execution_count": 3,
     "metadata": {},
     "output_type": "execute_result"
    }
   ],
   "source": [
    "a=\"ram shyam hari gita\"\n",
    "a.title()"
   ]
  },
  {
   "cell_type": "code",
   "execution_count": 6,
   "id": "737aa649",
   "metadata": {},
   "outputs": [
    {
     "name": "stdout",
     "output_type": "stream",
     "text": [
      "['apple,ball,cat,dog']\n"
     ]
    }
   ],
   "source": [
    "a=[\"apple,ball,cat,dog\"]\n",
    "print (a[0:3])"
   ]
  },
  {
   "cell_type": "code",
   "execution_count": 8,
   "id": "585dc311",
   "metadata": {},
   "outputs": [
    {
     "name": "stdout",
     "output_type": "stream",
     "text": [
      "['apple,ball', 'cat,dog']\n"
     ]
    }
   ],
   "source": [
    "a=[\"apple,ball\"]\n",
    "b=[\"cat,dog\"]\n",
    "print(a+b)"
   ]
  },
  {
   "cell_type": "code",
   "execution_count": 10,
   "id": "d645c898",
   "metadata": {},
   "outputs": [
    {
     "data": {
      "text/plain": [
       "['Ant', 'ball', 'cat', 'dog']"
      ]
     },
     "execution_count": 10,
     "metadata": {},
     "output_type": "execute_result"
    }
   ],
   "source": [
    "a=[\"apple\",\"ball\",\"cat\",\"dog\"]\n",
    "a[0]=\"Ant\"\n",
    "a"
   ]
  },
  {
   "cell_type": "code",
   "execution_count": 11,
   "id": "1a43783c",
   "metadata": {},
   "outputs": [
    {
     "name": "stdout",
     "output_type": "stream",
     "text": [
      "['Apple', 'Ball', 'Cat', 'Dog', 'fish', 'snake', 'bull']\n"
     ]
    }
   ],
   "source": [
    "a=['Apple','Ball','Cat','Dog']\n",
    "b=['fish','snake','bull']\n",
    "a.extend(b)\n",
    "print (a)"
   ]
  },
  {
   "cell_type": "code",
   "execution_count": null,
   "id": "8afdd8e5",
   "metadata": {},
   "outputs": [],
   "source": [
    "# WAP to create a reult managementsystem\n",
    "# name \n",
    "# subject marks\n",
    "# multiple students\n"
   ]
  }
 ],
 "metadata": {
  "kernelspec": {
   "display_name": "Python 3 (ipykernel)",
   "language": "python",
   "name": "python3"
  },
  "language_info": {
   "codemirror_mode": {
    "name": "ipython",
    "version": 3
   },
   "file_extension": ".py",
   "mimetype": "text/x-python",
   "name": "python",
   "nbconvert_exporter": "python",
   "pygments_lexer": "ipython3",
   "version": "3.9.7"
  }
 },
 "nbformat": 4,
 "nbformat_minor": 5
}
