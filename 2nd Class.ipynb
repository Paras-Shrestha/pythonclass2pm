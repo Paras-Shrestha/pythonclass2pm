{
 "cells": [
  {
   "cell_type": "code",
   "execution_count": 10,
   "id": "3265b83d",
   "metadata": {},
   "outputs": [
    {
     "name": "stdout",
     "output_type": "stream",
     "text": [
      "enter a num=-1\n",
      "-1 is negative\n"
     ]
    }
   ],
   "source": [
    "num=int(input(\"enter a num=\"))\n",
    "if num ==0:\n",
    "    print(num,\"is Zero\")\n",
    "else:\n",
    "    if num >0:\n",
    "         print(num, \"is positive\")\n",
    "   \n",
    "    else:\n",
    "        print(num,\"is negative\")\n",
    "    \n",
    "        \n",
    "         \n"
   ]
  },
  {
   "cell_type": "code",
   "execution_count": null,
   "id": "79531ede",
   "metadata": {},
   "outputs": [],
   "source": [
    "num=int(input(\"enter a num=\"))\n",
    "if num==0:\n",
    "    print(num,\"is zero\")\n",
    "else:\n",
    "    if num >0:\n",
    "        print(num,\"is positive\")\n",
    "    \n",
    "    else :\n",
    "        print(num,\"is negative\")"
   ]
  },
  {
   "cell_type": "code",
   "execution_count": 8,
   "id": "905083b7",
   "metadata": {},
   "outputs": [
    {
     "name": "stdout",
     "output_type": "stream",
     "text": [
      "enter a num0\n",
      "num is zero\n"
     ]
    }
   ],
   "source": [
    "num=int(input(\"enter a num\"))\n",
    "if num>0:\n",
    "    print(\"num is positive\")\n",
    "elif num==0:\n",
    "    print(\"num is zero\")\n",
    "else:\n",
    "    print(\"num is negative\")\n"
   ]
  },
  {
   "cell_type": "code",
   "execution_count": 25,
   "id": "ced7f9c5",
   "metadata": {},
   "outputs": [
    {
     "name": "stdout",
     "output_type": "stream",
     "text": [
      "Enter value of a=0\n",
      "Enter value of b=1\n",
      "Enter value of c=2\n",
      "c is greater\n"
     ]
    }
   ],
   "source": [
    "a=int(input(\"Enter value of a=\"))\n",
    "b=int(input(\"Enter value of b=\"))\n",
    "c=int(input(\"Enter value of c=\"))\n",
    "if a==0 and b==0 and c==0:\n",
    "    print(\"value is zero\")\n",
    "else:\n",
    "    if a>b and a>c:\n",
    "        print(\"a is greater\")\n",
    "    elif b>a and b>c:\n",
    "        print(\"b is greater\")\n",
    "    else:\n",
    "        print(\"c is greater\")\n"
   ]
  },
  {
   "cell_type": "code",
   "execution_count": 14,
   "id": "bf4c7f88",
   "metadata": {},
   "outputs": [
    {
     "name": "stdout",
     "output_type": "stream",
     "text": [
      "Enter value of a=3\n",
      "Enter value of b=3\n",
      "Enter value of c=3\n",
      "all are equal\n"
     ]
    }
   ],
   "source": [
    "a=int(input(\"Enter value of a=\"))\n",
    "b=int(input(\"Enter value of b=\"))\n",
    "c=int(input(\"Enter value of c=\"))\n",
    "if a==0 and b==0 and c==0:\n",
    "    print(\"value is zero\")\n",
    "elif a>b and b>c:\n",
    "        print(\"a is greater\")\n",
    "elif b>a and b>c:\n",
    "        print(\"b is greater\")\n",
    "elif c>a and c>b:\n",
    "        print(\"c is greater\")\n",
    "else:\n",
    "    print(\"all are equal\")"
   ]
  },
  {
   "cell_type": "code",
   "execution_count": 5,
   "id": "5c60b724",
   "metadata": {},
   "outputs": [
    {
     "name": "stdout",
     "output_type": "stream",
     "text": [
      "Enter a=1\n",
      "Enter b=2\n",
      "b is greater\n"
     ]
    }
   ],
   "source": [
    "a=int(input(\"Enter a=\"))\n",
    "b=int(input(\"Enter b=\"))\n",
    "if a>b:\n",
    "    print(\"a is greater\")\n",
    "elif b>a:\n",
    "        print(\"b is greater\")\n",
    "else:\n",
    "     print(\"both are equal\")\n",
    "    "
   ]
  },
  {
   "cell_type": "markdown",
   "id": "fc006b94",
   "metadata": {},
   "source": []
  },
  {
   "cell_type": "code",
   "execution_count": 13,
   "id": "cd099620",
   "metadata": {},
   "outputs": [
    {
     "ename": "IndentationError",
     "evalue": "expected an indented block (Temp/ipykernel_5676/3004751085.py, line 4)",
     "output_type": "error",
     "traceback": [
      "\u001b[1;36m  File \u001b[1;32m\"C:\\Users\\kl\\AppData\\Local\\Temp/ipykernel_5676/3004751085.py\"\u001b[1;36m, line \u001b[1;32m4\u001b[0m\n\u001b[1;33m    print(\"b is greater than a\")\u001b[0m\n\u001b[1;37m    ^\u001b[0m\n\u001b[1;31mIndentationError\u001b[0m\u001b[1;31m:\u001b[0m expected an indented block\n"
     ]
    }
   ],
   "source": [
    "a=3\n",
    "b=200\n",
    "if b>a:\n",
    "print(\"b is greater than a\")"
   ]
  },
  {
   "cell_type": "code",
   "execution_count": null,
   "id": "72e5a1c7",
   "metadata": {},
   "outputs": [],
   "source": []
  },
  {
   "cell_type": "code",
   "execution_count": null,
   "id": "7a7fedf0",
   "metadata": {},
   "outputs": [],
   "source": []
  }
 ],
 "metadata": {
  "kernelspec": {
   "display_name": "Python 3 (ipykernel)",
   "language": "python",
   "name": "python3"
  },
  "language_info": {
   "codemirror_mode": {
    "name": "ipython",
    "version": 3
   },
   "file_extension": ".py",
   "mimetype": "text/x-python",
   "name": "python",
   "nbconvert_exporter": "python",
   "pygments_lexer": "ipython3",
   "version": "3.9.7"
  }
 },
 "nbformat": 4,
 "nbformat_minor": 5
}
