{
 "cells": [
  {
   "cell_type": "code",
   "execution_count": 1,
   "id": "77c2c75b",
   "metadata": {},
   "outputs": [
    {
     "name": "stdout",
     "output_type": "stream",
     "text": [
      "enter value of n=2\n",
      "enter product name=Momo\n",
      "enter price=150\n",
      "enter product qty=1\n",
      "enter product name=chowein\n",
      "enter price=130\n",
      "enter product qty=1\n",
      "Momo 150 1 150\n",
      "chowein 130 1 130\n",
      "\n",
      "280\n"
     ]
    }
   ],
   "source": [
    "grand_total=0\n",
    "n=int(input(\"enter value of n=\"))\n",
    "bill=\"\"\n",
    "for i in range(n):\n",
    "    name=input(\"enter product name=\")\n",
    "    price=int(input(\"enter price=\"))\n",
    "    qty=int(input(\"enter product qty=\"))\n",
    "    total=price*qty\n",
    "    grand_total=grand_total+total\n",
    "    #f string\n",
    "    data=f\"{name} {price} {qty} {total}\\n\"\n",
    "    bill=bill+data\n",
    "print(bill)\n",
    "print(grand_total)"
   ]
  },
  {
   "cell_type": "raw",
   "id": "815289a7",
   "metadata": {},
   "source": []
  },
  {
   "cell_type": "markdown",
   "id": "2bf2148e",
   "metadata": {},
   "source": [
    "a=\"Ram Shyam Hari Gita Nita Shyam\".lower()\n",
    "search=input(\"enter search=\").lower()\n",
    "if search in a:\n",
    "    print(\"yes\",a.count(search))"
   ]
  },
  {
   "cell_type": "code",
   "execution_count": 5,
   "id": "b21e46bc",
   "metadata": {},
   "outputs": [
    {
     "name": "stdout",
     "output_type": "stream",
     "text": [
      "enter the marks of physics= 5\n",
      "enter the marks of chemistry=5\n",
      "enter the marks of maths=5\n",
      "enter the marks of nepali=5\n",
      "enter the marks of english5\n",
      "5.0\n"
     ]
    }
   ],
   "source": [
    "physics=int(input(\"enter the marks of physics= \"))\n",
    "chemistry=int(input(\"enter the marks of chemistry=\"))\n",
    "maths=int(input(\"enter the marks of maths=\"))\n",
    "nepali=int(input(\"enter the marks of nepali=\"))\n",
    "english=int(input(\"enter the marks of english\"))\n",
    "total=(physics+chemistry+maths+nepali+english)/5\n",
    "print (total)\n",
    "if total>=80:\n",
    "    print(\"Grade A\")\n",
    "    "
   ]
  },
  {
   "cell_type": "code",
   "execution_count": null,
   "id": "cde1b8c5",
   "metadata": {},
   "outputs": [],
   "source": []
  }
 ],
 "metadata": {
  "kernelspec": {
   "display_name": "Python 3 (ipykernel)",
   "language": "python",
   "name": "python3"
  },
  "language_info": {
   "codemirror_mode": {
    "name": "ipython",
    "version": 3
   },
   "file_extension": ".py",
   "mimetype": "text/x-python",
   "name": "python",
   "nbconvert_exporter": "python",
   "pygments_lexer": "ipython3",
   "version": "3.9.7"
  }
 },
 "nbformat": 4,
 "nbformat_minor": 5
}
