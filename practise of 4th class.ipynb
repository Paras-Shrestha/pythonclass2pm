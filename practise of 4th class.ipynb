{
 "cells": [
  {
   "cell_type": "code",
   "execution_count": 25,
   "id": "c4cbba76",
   "metadata": {},
   "outputs": [
    {
     "name": "stdout",
     "output_type": "stream",
     "text": [
      "enter a num=-9\n",
      "The num is odd and negative\n"
     ]
    }
   ],
   "source": [
    "n=int(input(\"enter a num=\"))\n",
    "if n>=0:\n",
    "    if n%2==0:\n",
    "        print(\"The num is even and positive\")\n",
    "    else:\n",
    "        print(\"The num is odd and positive\")\n",
    "else:\n",
    "    if n%2!=0:\n",
    "        print(\"The num is odd and negative\")\n",
    "    else:\n",
    "        print(\"The num is odd and positive\")\n",
    "        \n",
    "    "
   ]
  },
  {
   "cell_type": "code",
   "execution_count": 12,
   "id": "640e2f00",
   "metadata": {},
   "outputs": [
    {
     "data": {
      "text/plain": [
       "True"
      ]
     },
     "execution_count": 12,
     "metadata": {},
     "output_type": "execute_result"
    }
   ],
   "source": [
    "a=10\n",
    "a%2==0"
   ]
  },
  {
   "cell_type": "code",
   "execution_count": 21,
   "id": "94d78b0f",
   "metadata": {},
   "outputs": [
    {
     "name": "stdout",
     "output_type": "stream",
     "text": [
      "enter a num=9\n",
      "enter a num=0\n",
      "+-*/?\n",
      "Invalid operator\n"
     ]
    }
   ],
   "source": [
    "a=int(input(\"enter a num=\"))\n",
    "b=int(input(\"enter a num=\"))\n",
    "o=input(\"+-*/\")\n",
    "if o==\"+\":\n",
    "    print(a+b)\n",
    "elif o==\"-\":\n",
    "    print(a-b)\n",
    "elif o==\"*\":\n",
    "    print(a*b)\n",
    "elif o==\"/\":\n",
    "    if b!=0:\n",
    "        print(a/b)\n",
    "    else:\n",
    "        print(\"value of b cannot be zero\")\n",
    "else:\n",
    "    print(\"Invalid operator\")\n",
    "        "
   ]
  },
  {
   "cell_type": "code",
   "execution_count": 23,
   "id": "1fb4b563",
   "metadata": {},
   "outputs": [
    {
     "name": "stdout",
     "output_type": "stream",
     "text": [
      "enter the marks of Math=45\n",
      "enter the marks of Physics20\n",
      "enter the marks of Chemistry=23\n",
      "enter the marks of English=56\n",
      "enter the marks of Nepali=12\n",
      "result is Fail\n"
     ]
    }
   ],
   "source": [
    "Math=int(input(\"enter the marks of Math=\"))\n",
    "Physics=int(input(\"enter the marks of Physics\"))\n",
    "Chemistry=int(input(\"enter the marks of Chemistry=\"))\n",
    "English=int(input(\"enter the marks of English=\"))\n",
    "Nepali=int(input(\"enter the marks of Nepali=\"))\n",
    "\n",
    "total=Math+Physics+Chemistry+English+Nepali\n",
    "per=total/5\n",
    "\n",
    "if per>=80:\n",
    "    print(\"congratulations,result is Grade A \")\n",
    "elif per>=60:\n",
    "    print(\"result is Grade B\")\n",
    "elif per>=40:\n",
    "    print(\"result is Grade C \")\n",
    "else:\n",
    "    print(\"result is Fail\")\n"
   ]
  },
  {
   "cell_type": "code",
   "execution_count": 26,
   "id": "f05df75c",
   "metadata": {},
   "outputs": [
    {
     "name": "stdout",
     "output_type": "stream",
     "text": [
      "0\n",
      "1\n",
      "2\n",
      "3\n",
      "4\n"
     ]
    }
   ],
   "source": [
    "for i in range(5):\n",
    "    print (i)"
   ]
  },
  {
   "cell_type": "code",
   "execution_count": 29,
   "id": "8e80b76b",
   "metadata": {},
   "outputs": [
    {
     "name": "stdout",
     "output_type": "stream",
     "text": [
      "2\n",
      "3\n",
      "4\n"
     ]
    }
   ],
   "source": [
    "for i in range(2,5):\n",
    "    print(i)"
   ]
  },
  {
   "cell_type": "code",
   "execution_count": 32,
   "id": "c5a9ad39",
   "metadata": {},
   "outputs": [
    {
     "name": "stdout",
     "output_type": "stream",
     "text": [
      "1\n",
      "3\n",
      "5\n",
      "7\n",
      "9\n"
     ]
    }
   ],
   "source": [
    "for i in range(1,10,2):\n",
    "    print(i)"
   ]
  },
  {
   "cell_type": "code",
   "execution_count": 34,
   "id": "84401a98",
   "metadata": {},
   "outputs": [
    {
     "name": "stdout",
     "output_type": "stream",
     "text": [
      "0\n",
      "1\n",
      "2\n",
      "3\n",
      "4\n",
      "5\n",
      "6\n",
      "7\n",
      "8\n",
      "9\n"
     ]
    }
   ],
   "source": [
    "for i in range(0,10):\n",
    "    print(i)"
   ]
  },
  {
   "cell_type": "code",
   "execution_count": 36,
   "id": "031c9ec1",
   "metadata": {},
   "outputs": [
    {
     "name": "stdout",
     "output_type": "stream",
     "text": [
      "1\n",
      "3\n",
      "5\n",
      "7\n",
      "9\n"
     ]
    }
   ],
   "source": [
    "for i in range(0,10):\n",
    "    if i%2!=0:\n",
    "        print(i)"
   ]
  },
  {
   "cell_type": "code",
   "execution_count": 2,
   "id": "da4e3bde",
   "metadata": {},
   "outputs": [
    {
     "name": "stdout",
     "output_type": "stream",
     "text": [
      "enter a num=10\n",
      "10\n",
      "20\n",
      "30\n",
      "40\n",
      "50\n",
      "60\n",
      "70\n",
      "80\n",
      "90\n",
      "100\n"
     ]
    }
   ],
   "source": [
    "n=int(input(\"enter a num=\"))\n",
    "for i in range(1,11):\n",
    "      print(n*i)\n",
    "    "
   ]
  },
  {
   "cell_type": "markdown",
   "id": "e9ab15b0",
   "metadata": {},
   "source": []
  },
  {
   "cell_type": "code",
   "execution_count": 6,
   "id": "da45aee1",
   "metadata": {},
   "outputs": [
    {
     "name": "stdout",
     "output_type": "stream",
     "text": [
      "Enter a num=9\n",
      "9 * 1 = 9\n",
      "9 * 2 = 18\n",
      "9 * 3 = 27\n",
      "9 * 4 = 36\n",
      "9 * 5 = 45\n",
      "9 * 6 = 54\n",
      "9 * 7 = 63\n",
      "9 * 8 = 72\n",
      "9 * 9 = 81\n",
      "9 * 10 = 90\n"
     ]
    }
   ],
   "source": [
    "num=int(input(\"Enter a num=\"))\n",
    "for i in range(1,11):\n",
    "    print(num,\"*\",i,\"=\",num*i)"
   ]
  },
  {
   "cell_type": "code",
   "execution_count": 4,
   "id": "e323780a",
   "metadata": {},
   "outputs": [
    {
     "name": "stdout",
     "output_type": "stream",
     "text": [
      "apple,banana,cherry\n"
     ]
    }
   ],
   "source": [
    "fruits=[\"apple,banana,cherry\"]\n",
    "for x in fruits:\n",
    "    print(x)"
   ]
  },
  {
   "cell_type": "code",
   "execution_count": 8,
   "id": "21992ec4",
   "metadata": {},
   "outputs": [
    {
     "name": "stdout",
     "output_type": "stream",
     "text": [
      "ente value of n=5\n",
      "enter value of x1\n",
      "enter value of x2\n",
      "enter value of x3\n",
      "enter value of x4\n",
      "enter value of x5\n",
      "15\n"
     ]
    }
   ],
   "source": [
    "s=0\n",
    "n=int(input(\"ente value of n=\"))\n",
    "for i in range(n):\n",
    "    x=int(input(\"enter value of x\"))\n",
    "    s=s+x\n",
    "print(s)"
   ]
  },
  {
   "cell_type": "code",
   "execution_count": 1,
   "id": "3b09e0e4",
   "metadata": {},
   "outputs": [
    {
     "name": "stdout",
     "output_type": "stream",
     "text": [
      "apple,banana,cherry\n"
     ]
    }
   ],
   "source": [
    "fruits=[\"apple,banana,cherry\"]\n",
    "for a in fruits:\n",
    "    print (a)\n"
   ]
  },
  {
   "cell_type": "code",
   "execution_count": 3,
   "id": "8dfad32d",
   "metadata": {},
   "outputs": [
    {
     "name": "stdout",
     "output_type": "stream",
     "text": [
      "enter the value of n=3\n",
      "3 * 1 = 3\n",
      "3 * 2 = 6\n",
      "3 * 3 = 9\n",
      "3 * 4 = 12\n",
      "3 * 5 = 15\n",
      "3 * 6 = 18\n",
      "3 * 7 = 21\n",
      "3 * 8 = 24\n",
      "3 * 9 = 27\n",
      "3 * 10 = 30\n"
     ]
    }
   ],
   "source": [
    "n=int(input(\"enter the value of n=\"))\n",
    "for i in range(1,11):\n",
    "    print(n,\"*\",i,\"=\",n*i)"
   ]
  },
  {
   "cell_type": "code",
   "execution_count": null,
   "id": "101d8b75",
   "metadata": {},
   "outputs": [],
   "source": []
  }
 ],
 "metadata": {
  "kernelspec": {
   "display_name": "Python 3 (ipykernel)",
   "language": "python",
   "name": "python3"
  },
  "language_info": {
   "codemirror_mode": {
    "name": "ipython",
    "version": 3
   },
   "file_extension": ".py",
   "mimetype": "text/x-python",
   "name": "python",
   "nbconvert_exporter": "python",
   "pygments_lexer": "ipython3",
   "version": "3.9.7"
  }
 },
 "nbformat": 4,
 "nbformat_minor": 5
}
