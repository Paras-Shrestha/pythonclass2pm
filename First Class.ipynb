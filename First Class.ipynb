{
 "cells": [
  {
   "cell_type": "code",
   "execution_count": 1,
   "id": "cad564eb",
   "metadata": {},
   "outputs": [
    {
     "name": "stdout",
     "output_type": "stream",
     "text": [
      "enter a =1\n",
      "enter b=2\n",
      "12\n"
     ]
    }
   ],
   "source": [
    "a=input(\"enter a =\")\n",
    "b=input(\"enter b=\")\n",
    "c=a+b\n",
    "print(c\n",
    ")"
   ]
  },
  {
   "cell_type": "code",
   "execution_count": 2,
   "id": "acf4002b",
   "metadata": {},
   "outputs": [
    {
     "name": "stdout",
     "output_type": "stream",
     "text": [
      "enter a =1\n",
      "enter b =2\n",
      "3\n"
     ]
    }
   ],
   "source": [
    "a=int(input(\"enter a =\"))\n",
    "b=int(input(\"enter b =\"))\n",
    "c=a+b\n",
    "print(c)"
   ]
  },
  {
   "cell_type": "code",
   "execution_count": 3,
   "id": "015c8416",
   "metadata": {},
   "outputs": [
    {
     "name": "stdout",
     "output_type": "stream",
     "text": [
      "enter p=1\n",
      "enter t=2\n",
      "enter r=3\n",
      "0.06\n"
     ]
    }
   ],
   "source": [
    "p=int(input(\"enter p=\"))\n",
    "t=float(input(\"enter t=\"))\n",
    "r=float(input(\"enter r=\"))\n",
    "i=(p*t*r)/100\n",
    "print(i)"
   ]
  },
  {
   "cell_type": "code",
   "execution_count": 4,
   "id": "831dd467",
   "metadata": {},
   "outputs": [
    {
     "name": "stdout",
     "output_type": "stream",
     "text": [
      "enter name=anj\n",
      "enter add=qw\n",
      "Hello World I am  anj I am from  qw\n"
     ]
    }
   ],
   "source": [
    "name=input(\"enter name=\")\n",
    "add=input(\"enter add=\")\n",
    "print(\"Hello World I am \",name,\"I am from \",add)"
   ]
  },
  {
   "cell_type": "code",
   "execution_count": 5,
   "id": "4634e626",
   "metadata": {},
   "outputs": [
    {
     "name": "stdout",
     "output_type": "stream",
     "text": [
      "enter name=as\n",
      "enter add=asd\n",
      "Hello world I am as.I amd fromasd.\n"
     ]
    }
   ],
   "source": [
    "name=input(\"enter name=\")\n",
    "add=input(\"enter add=\")\n",
    "info=(\"Hello world I am \"+name+\".I amd from\"+add+\".\")\n",
    "print(info)"
   ]
  },
  {
   "cell_type": "code",
   "execution_count": 6,
   "id": "c9b4be8e",
   "metadata": {},
   "outputs": [],
   "source": [
    "a = 1\n"
   ]
  },
  {
   "cell_type": "code",
   "execution_count": 7,
   "id": "cdb3e277",
   "metadata": {},
   "outputs": [
    {
     "name": "stdout",
     "output_type": "stream",
     "text": [
      "3\n"
     ]
    }
   ],
   "source": [
    "b =2\n",
    "print ( a+ b)"
   ]
  },
  {
   "cell_type": "code",
   "execution_count": 8,
   "id": "548cac8f",
   "metadata": {},
   "outputs": [
    {
     "name": "stdout",
     "output_type": "stream",
     "text": [
      "12\n",
      "13\n",
      "True\n",
      "Hello World\n",
      "12 13 True Hello World\n"
     ]
    }
   ],
   "source": [
    "a=12\n",
    "b=13\n",
    "c=True\n",
    "d=\"Hello World\"\n",
    "print(a)\n",
    "print(b)\n",
    "print(c)\n",
    "print(d)\n",
    "print(a,b,c,d)"
   ]
  },
  {
   "cell_type": "code",
   "execution_count": 9,
   "id": "39cf7123",
   "metadata": {},
   "outputs": [
    {
     "name": "stdout",
     "output_type": "stream",
     "text": [
      "<class 'int'>\n",
      "<class 'int'>\n",
      "<class 'bool'>\n",
      "<class 'str'>\n"
     ]
    }
   ],
   "source": [
    "print(type(a))\n",
    "print(type(b))\n",
    "print(type(c))\n",
    "print(type(d))\n"
   ]
  },
  {
   "cell_type": "code",
   "execution_count": 10,
   "id": "39df01a6",
   "metadata": {},
   "outputs": [
    {
     "name": "stdout",
     "output_type": "stream",
     "text": [
      "<class 'int'> <class 'int'>\n"
     ]
    }
   ],
   "source": [
    "print(type(a),type(b))"
   ]
  },
  {
   "cell_type": "code",
   "execution_count": 11,
   "id": "932cba08",
   "metadata": {},
   "outputs": [
    {
     "name": "stdout",
     "output_type": "stream",
     "text": [
      "3\n"
     ]
    }
   ],
   "source": [
    "a=10\n",
    "b=3\n",
    "c=a//b\n",
    "print(c)"
   ]
  },
  {
   "cell_type": "code",
   "execution_count": 12,
   "id": "d69dd978",
   "metadata": {},
   "outputs": [
    {
     "name": "stdout",
     "output_type": "stream",
     "text": [
      "1\n"
     ]
    }
   ],
   "source": [
    "a=10\n",
    "b=3\n",
    "c=a%b\n",
    "print(c)"
   ]
  },
  {
   "cell_type": "code",
   "execution_count": 13,
   "id": "79fc7025",
   "metadata": {},
   "outputs": [
    {
     "name": "stdout",
     "output_type": "stream",
     "text": [
      "6969.0\n"
     ]
    }
   ],
   "source": [
    "p=1000\n",
    "t=20.2\n",
    "r=34.5\n",
    "i=p*t*r/100\n",
    "print(i)"
   ]
  },
  {
   "cell_type": "code",
   "execution_count": 14,
   "id": "02461408",
   "metadata": {},
   "outputs": [
    {
     "name": "stdout",
     "output_type": "stream",
     "text": [
      "1\n"
     ]
    }
   ],
   "source": [
    "a=input()"
   ]
  },
  {
   "cell_type": "code",
   "execution_count": 15,
   "id": "8c95e120",
   "metadata": {},
   "outputs": [
    {
     "name": "stdout",
     "output_type": "stream",
     "text": [
      "enter a=1\n",
      "enter b=2\n",
      "3\n"
     ]
    }
   ],
   "source": [
    "a=int(input(\"enter a=\"))\n",
    "b=int(input(\"enter b=\"))\n",
    "c=a+b\n",
    "print(c)"
   ]
  },
  {
   "cell_type": "code",
   "execution_count": 16,
   "id": "8444da11",
   "metadata": {},
   "outputs": [
    {
     "name": "stdout",
     "output_type": "stream",
     "text": [
      "10\n",
      "10.0\n",
      "10\n"
     ]
    }
   ],
   "source": [
    "a=str(10)\n",
    "b=float(10)\n",
    "c=int(10)\n",
    "print(a)\n",
    "print(b)\n",
    "print(c)\n"
   ]
  },
  {
   "cell_type": "code",
   "execution_count": 17,
   "id": "16a7b28e",
   "metadata": {},
   "outputs": [
    {
     "data": {
      "text/plain": [
       "20"
      ]
     },
     "execution_count": 17,
     "metadata": {},
     "output_type": "execute_result"
    }
   ],
   "source": [
    "10+10"
   ]
  },
  {
   "cell_type": "code",
   "execution_count": 18,
   "id": "15d34840",
   "metadata": {},
   "outputs": [
    {
     "data": {
      "text/plain": [
       "'1010'"
      ]
     },
     "execution_count": 18,
     "metadata": {},
     "output_type": "execute_result"
    }
   ],
   "source": [
    "\"10\"+\"10\""
   ]
  },
  {
   "cell_type": "code",
   "execution_count": 19,
   "id": "ccc8ac04",
   "metadata": {},
   "outputs": [
    {
     "name": "stdout",
     "output_type": "stream",
     "text": [
      "enter p=4\n",
      "enter t=5\n",
      "enter r=6\n",
      "1.2\n"
     ]
    }
   ],
   "source": [
    "p= int(input(\"enter p=\"))\n",
    "t= float(input(\"enter t=\"))\n",
    "r= float(input(\"enter r=\"))\n",
    "i= p*t*r/100\n",
    "print(i)"
   ]
  },
  {
   "cell_type": "code",
   "execution_count": null,
   "id": "7a091109",
   "metadata": {},
   "outputs": [],
   "source": []
  },
  {
   "cell_type": "markdown",
   "id": "e34aeccd",
   "metadata": {},
   "source": []
  },
  {
   "cell_type": "code",
   "execution_count": 20,
   "id": "888d333e",
   "metadata": {},
   "outputs": [
    {
     "name": "stdout",
     "output_type": "stream",
     "text": [
      "enter name=bnm\n",
      "enter add=asdf\n",
      "Hello World My name is bnm and i live in asdf .\n"
     ]
    }
   ],
   "source": [
    "name=input(\"enter name=\")\n",
    "add=input(\"enter add=\")\n",
    "print(\"Hello World My name is\",name,\"and i live in\",add,\".\")"
   ]
  },
  {
   "cell_type": "code",
   "execution_count": 21,
   "id": "917eed51",
   "metadata": {},
   "outputs": [
    {
     "name": "stdout",
     "output_type": "stream",
     "text": [
      "enter name=das\n",
      "enter add=asdas\n",
      "Hello world My name is das i am from asdas.\n"
     ]
    }
   ],
   "source": [
    "name=input(\"enter name=\")\n",
    "add=input(\"enter add=\")\n",
    "print(\"Hello world My name is \"+name+\" i am from \"+add+\".\")"
   ]
  },
  {
   "cell_type": "code",
   "execution_count": 22,
   "id": "cfc155f8",
   "metadata": {},
   "outputs": [
    {
     "name": "stdout",
     "output_type": "stream",
     "text": [
      "enter your name=sadas\n",
      "enter your add=asda\n",
      "enter your age=12\n",
      "Hello World My name is sadas.I am from asda.And i am 12 years old.\n"
     ]
    }
   ],
   "source": [
    "name=input(\"enter your name=\")\n",
    "add=input(\"enter your add=\")\n",
    "age=input(\"enter your age=\")\n",
    "info=\"Hello World My name is \"+name+\".I am from \"+add+\".And i am \"+age+\" years old.\"\n",
    "print(info)"
   ]
  },
  {
   "cell_type": "code",
   "execution_count": 23,
   "id": "c6296814",
   "metadata": {},
   "outputs": [
    {
     "name": "stdout",
     "output_type": "stream",
     "text": [
      "enter name=sadas\n",
      "enter add=asda\n",
      "enter age=12\n",
      "Hello world my name is sadas.I am from asda.I am 12 years old\n"
     ]
    }
   ],
   "source": [
    "name=input(\"enter name=\")\n",
    "add=input(\"enter add=\")\n",
    "age=int(input(\"enter age=\"))\n",
    "info=\"Hello world my name is \"+name+\".I am from \"+add+\".I am \"+str(age)+\" years old\"\n",
    "print(info)"
   ]
  },
  {
   "cell_type": "code",
   "execution_count": 24,
   "id": "060532ac",
   "metadata": {},
   "outputs": [
    {
     "name": "stdout",
     "output_type": "stream",
     "text": [
      "Hello World\tHello World\t\n"
     ]
    }
   ],
   "source": [
    "a=\"Hello World\\t\"\n",
    "info=a*2\n",
    "print(info)"
   ]
  },
  {
   "cell_type": "code",
   "execution_count": 25,
   "id": "a916d035",
   "metadata": {},
   "outputs": [
    {
     "name": "stdout",
     "output_type": "stream",
     "text": [
      "Hello world\n",
      "Hello world\n",
      "\n"
     ]
    }
   ],
   "source": [
    "a=\"Hello world\\n\"\n",
    "b=a*2\n",
    "print(b)"
   ]
  },
  {
   "cell_type": "code",
   "execution_count": 26,
   "id": "e6d3f883",
   "metadata": {},
   "outputs": [
    {
     "name": "stdout",
     "output_type": "stream",
     "text": [
      "enter name=asdas\n",
      "enter age=12\n",
      "enter add=sa\n",
      "Hello World My name is asdas .I am  12 years old.I am from sa .\n"
     ]
    }
   ],
   "source": [
    "name=input(\"enter name=\")\n",
    "age=input(\"enter age=\")\n",
    "add=input(\"enter add=\")\n",
    "print(\"Hello World My name is\",name,\".I am \",age,\"years old.I am from\",add,\".\")\n"
   ]
  },
  {
   "cell_type": "code",
   "execution_count": 27,
   "id": "695ee1b3",
   "metadata": {},
   "outputs": [
    {
     "name": "stdout",
     "output_type": "stream",
     "text": [
      "3\n"
     ]
    }
   ],
   "source": [
    "a=1\n",
    "b=2\n",
    "c=a+b\n",
    "print(c)"
   ]
  },
  {
   "cell_type": "code",
   "execution_count": 28,
   "id": "75ea7a53",
   "metadata": {},
   "outputs": [
    {
     "name": "stdout",
     "output_type": "stream",
     "text": [
      "Enter name=add\n",
      "Enter add =asd\n",
      "Hello my name is add I am from asd\n"
     ]
    }
   ],
   "source": [
    "name=input(\"Enter name=\")\n",
    "add=input(\"Enter add =\")\n",
    "print(\"Hello my name is\",name,\"I am from\",add)"
   ]
  },
  {
   "cell_type": "code",
   "execution_count": 29,
   "id": "94957818",
   "metadata": {},
   "outputs": [
    {
     "name": "stdout",
     "output_type": "stream",
     "text": [
      "enter a=1\n",
      "enter b=2\n",
      "enter +-*/+\n",
      "a+b\n"
     ]
    }
   ],
   "source": [
    "a=int(input(\"enter a=\"))\n",
    "b=int(input(\"enter b=\"))\n",
    "o=input(\"enter +-*/\")\n",
    "if o==\"+\":\n",
    "    print(\"a+b\")\n",
    "elif o==\"-\":\n",
    "    print(\"a-b\")\n",
    "elif o==\"*\":\n",
    "    print(a*b)\n",
    "elif o==\"/\":\n",
    "    print(\"a/b\")\n",
    "else:\n",
    "    print(\"Invalid operator\")"
   ]
  },
  {
   "cell_type": "code",
   "execution_count": 1,
   "id": "0376b708",
   "metadata": {},
   "outputs": [
    {
     "name": "stdout",
     "output_type": "stream",
     "text": [
      "Enter a=1\n",
      "a is odd\n"
     ]
    }
   ],
   "source": [
    "a=int(input(\"Enter a=\"))\n",
    "if a == 0 :\n",
    "    print(\"None\")\n",
    "else :\n",
    "    if a%2==0:\n",
    "        print(\"a is even\")\n",
    "    else:\n",
    "        print(\"a is odd\")"
   ]
  },
  {
   "cell_type": "markdown",
   "id": "bbf18be6",
   "metadata": {},
   "source": []
  },
  {
   "cell_type": "code",
   "execution_count": null,
   "id": "9d8cadf2",
   "metadata": {},
   "outputs": [],
   "source": []
  }
 ],
 "metadata": {
  "kernelspec": {
   "display_name": "Python 3 (ipykernel)",
   "language": "python",
   "name": "python3"
  },
  "language_info": {
   "codemirror_mode": {
    "name": "ipython",
    "version": 3
   },
   "file_extension": ".py",
   "mimetype": "text/x-python",
   "name": "python",
   "nbconvert_exporter": "python",
   "pygments_lexer": "ipython3",
   "version": "3.9.7"
  }
 },
 "nbformat": 4,
 "nbformat_minor": 5
}
